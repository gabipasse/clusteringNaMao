{
  "cells": [
    {
      "cell_type": "markdown",
      "metadata": {
        "id": "view-in-github",
        "colab_type": "text"
      },
      "source": [
        "<a href=\"https://colab.research.google.com/github/gabipasse/clusteringNaMao/blob/main/clusteringNaMao.ipynb\" target=\"_parent\"><img src=\"https://colab.research.google.com/assets/colab-badge.svg\" alt=\"Open In Colab\"/></a>"
      ]
    },
    {
      "cell_type": "code",
      "execution_count": null,
      "metadata": {
        "id": "9P77Fl7el2zO"
      },
      "outputs": [],
      "source": [
        "import pandas as pd\n",
        "import numpy as np\n",
        "import matplotlib.pyplot as plt\n",
        "from sklearn.pipeline import Pipeline\n",
        "from sklearn.preprocessing import StandardScaler\n",
        "from sklearn.decomposition import PCA\n",
        "import copy\n"
      ]
    },
    {
      "cell_type": "code",
      "execution_count": null,
      "metadata": {
        "id": "M62Q_drpnAcx"
      },
      "outputs": [],
      "source": [
        "data = pd.read_csv(\"CC GENERAL.csv\")"
      ]
    },
    {
      "cell_type": "code",
      "execution_count": null,
      "metadata": {
        "colab": {
          "base_uri": "https://localhost:8080/",
          "height": 226
        },
        "id": "vgFcX4a7nBwo",
        "outputId": "e09a10f8-89db-4d24-ead6-0c2eae99e94d"
      },
      "outputs": [
        {
          "output_type": "execute_result",
          "data": {
            "text/plain": [
              "  CUST_ID      BALANCE  BALANCE_FREQUENCY  PURCHASES  ONEOFF_PURCHASES  \\\n",
              "0  C10001    40.900749           0.818182      95.40              0.00   \n",
              "1  C10002  3202.467416           0.909091       0.00              0.00   \n",
              "2  C10003  2495.148862           1.000000     773.17            773.17   \n",
              "3  C10004  1666.670542           0.636364    1499.00           1499.00   \n",
              "4  C10005   817.714335           1.000000      16.00             16.00   \n",
              "\n",
              "   INSTALLMENTS_PURCHASES  CASH_ADVANCE  PURCHASES_FREQUENCY  \\\n",
              "0                    95.4      0.000000             0.166667   \n",
              "1                     0.0   6442.945483             0.000000   \n",
              "2                     0.0      0.000000             1.000000   \n",
              "3                     0.0    205.788017             0.083333   \n",
              "4                     0.0      0.000000             0.083333   \n",
              "\n",
              "   ONEOFF_PURCHASES_FREQUENCY  PURCHASES_INSTALLMENTS_FREQUENCY  \\\n",
              "0                    0.000000                          0.083333   \n",
              "1                    0.000000                          0.000000   \n",
              "2                    1.000000                          0.000000   \n",
              "3                    0.083333                          0.000000   \n",
              "4                    0.083333                          0.000000   \n",
              "\n",
              "   CASH_ADVANCE_FREQUENCY  CASH_ADVANCE_TRX  PURCHASES_TRX  CREDIT_LIMIT  \\\n",
              "0                0.000000                 0              2        1000.0   \n",
              "1                0.250000                 4              0        7000.0   \n",
              "2                0.000000                 0             12        7500.0   \n",
              "3                0.083333                 1              1        7500.0   \n",
              "4                0.000000                 0              1        1200.0   \n",
              "\n",
              "      PAYMENTS  MINIMUM_PAYMENTS  PRC_FULL_PAYMENT  TENURE  \n",
              "0   201.802084        139.509787          0.000000      12  \n",
              "1  4103.032597       1072.340217          0.222222      12  \n",
              "2   622.066742        627.284787          0.000000      12  \n",
              "3     0.000000               NaN          0.000000      12  \n",
              "4   678.334763        244.791237          0.000000      12  "
            ],
            "text/html": [
              "\n",
              "  <div id=\"df-a5f779bb-6a13-4b9c-9ba3-e90a8fab85d3\" class=\"colab-df-container\">\n",
              "    <div>\n",
              "<style scoped>\n",
              "    .dataframe tbody tr th:only-of-type {\n",
              "        vertical-align: middle;\n",
              "    }\n",
              "\n",
              "    .dataframe tbody tr th {\n",
              "        vertical-align: top;\n",
              "    }\n",
              "\n",
              "    .dataframe thead th {\n",
              "        text-align: right;\n",
              "    }\n",
              "</style>\n",
              "<table border=\"1\" class=\"dataframe\">\n",
              "  <thead>\n",
              "    <tr style=\"text-align: right;\">\n",
              "      <th></th>\n",
              "      <th>CUST_ID</th>\n",
              "      <th>BALANCE</th>\n",
              "      <th>BALANCE_FREQUENCY</th>\n",
              "      <th>PURCHASES</th>\n",
              "      <th>ONEOFF_PURCHASES</th>\n",
              "      <th>INSTALLMENTS_PURCHASES</th>\n",
              "      <th>CASH_ADVANCE</th>\n",
              "      <th>PURCHASES_FREQUENCY</th>\n",
              "      <th>ONEOFF_PURCHASES_FREQUENCY</th>\n",
              "      <th>PURCHASES_INSTALLMENTS_FREQUENCY</th>\n",
              "      <th>CASH_ADVANCE_FREQUENCY</th>\n",
              "      <th>CASH_ADVANCE_TRX</th>\n",
              "      <th>PURCHASES_TRX</th>\n",
              "      <th>CREDIT_LIMIT</th>\n",
              "      <th>PAYMENTS</th>\n",
              "      <th>MINIMUM_PAYMENTS</th>\n",
              "      <th>PRC_FULL_PAYMENT</th>\n",
              "      <th>TENURE</th>\n",
              "    </tr>\n",
              "  </thead>\n",
              "  <tbody>\n",
              "    <tr>\n",
              "      <th>0</th>\n",
              "      <td>C10001</td>\n",
              "      <td>40.900749</td>\n",
              "      <td>0.818182</td>\n",
              "      <td>95.40</td>\n",
              "      <td>0.00</td>\n",
              "      <td>95.4</td>\n",
              "      <td>0.000000</td>\n",
              "      <td>0.166667</td>\n",
              "      <td>0.000000</td>\n",
              "      <td>0.083333</td>\n",
              "      <td>0.000000</td>\n",
              "      <td>0</td>\n",
              "      <td>2</td>\n",
              "      <td>1000.0</td>\n",
              "      <td>201.802084</td>\n",
              "      <td>139.509787</td>\n",
              "      <td>0.000000</td>\n",
              "      <td>12</td>\n",
              "    </tr>\n",
              "    <tr>\n",
              "      <th>1</th>\n",
              "      <td>C10002</td>\n",
              "      <td>3202.467416</td>\n",
              "      <td>0.909091</td>\n",
              "      <td>0.00</td>\n",
              "      <td>0.00</td>\n",
              "      <td>0.0</td>\n",
              "      <td>6442.945483</td>\n",
              "      <td>0.000000</td>\n",
              "      <td>0.000000</td>\n",
              "      <td>0.000000</td>\n",
              "      <td>0.250000</td>\n",
              "      <td>4</td>\n",
              "      <td>0</td>\n",
              "      <td>7000.0</td>\n",
              "      <td>4103.032597</td>\n",
              "      <td>1072.340217</td>\n",
              "      <td>0.222222</td>\n",
              "      <td>12</td>\n",
              "    </tr>\n",
              "    <tr>\n",
              "      <th>2</th>\n",
              "      <td>C10003</td>\n",
              "      <td>2495.148862</td>\n",
              "      <td>1.000000</td>\n",
              "      <td>773.17</td>\n",
              "      <td>773.17</td>\n",
              "      <td>0.0</td>\n",
              "      <td>0.000000</td>\n",
              "      <td>1.000000</td>\n",
              "      <td>1.000000</td>\n",
              "      <td>0.000000</td>\n",
              "      <td>0.000000</td>\n",
              "      <td>0</td>\n",
              "      <td>12</td>\n",
              "      <td>7500.0</td>\n",
              "      <td>622.066742</td>\n",
              "      <td>627.284787</td>\n",
              "      <td>0.000000</td>\n",
              "      <td>12</td>\n",
              "    </tr>\n",
              "    <tr>\n",
              "      <th>3</th>\n",
              "      <td>C10004</td>\n",
              "      <td>1666.670542</td>\n",
              "      <td>0.636364</td>\n",
              "      <td>1499.00</td>\n",
              "      <td>1499.00</td>\n",
              "      <td>0.0</td>\n",
              "      <td>205.788017</td>\n",
              "      <td>0.083333</td>\n",
              "      <td>0.083333</td>\n",
              "      <td>0.000000</td>\n",
              "      <td>0.083333</td>\n",
              "      <td>1</td>\n",
              "      <td>1</td>\n",
              "      <td>7500.0</td>\n",
              "      <td>0.000000</td>\n",
              "      <td>NaN</td>\n",
              "      <td>0.000000</td>\n",
              "      <td>12</td>\n",
              "    </tr>\n",
              "    <tr>\n",
              "      <th>4</th>\n",
              "      <td>C10005</td>\n",
              "      <td>817.714335</td>\n",
              "      <td>1.000000</td>\n",
              "      <td>16.00</td>\n",
              "      <td>16.00</td>\n",
              "      <td>0.0</td>\n",
              "      <td>0.000000</td>\n",
              "      <td>0.083333</td>\n",
              "      <td>0.083333</td>\n",
              "      <td>0.000000</td>\n",
              "      <td>0.000000</td>\n",
              "      <td>0</td>\n",
              "      <td>1</td>\n",
              "      <td>1200.0</td>\n",
              "      <td>678.334763</td>\n",
              "      <td>244.791237</td>\n",
              "      <td>0.000000</td>\n",
              "      <td>12</td>\n",
              "    </tr>\n",
              "  </tbody>\n",
              "</table>\n",
              "</div>\n",
              "    <div class=\"colab-df-buttons\">\n",
              "\n",
              "  <div class=\"colab-df-container\">\n",
              "    <button class=\"colab-df-convert\" onclick=\"convertToInteractive('df-a5f779bb-6a13-4b9c-9ba3-e90a8fab85d3')\"\n",
              "            title=\"Convert this dataframe to an interactive table.\"\n",
              "            style=\"display:none;\">\n",
              "\n",
              "  <svg xmlns=\"http://www.w3.org/2000/svg\" height=\"24px\" viewBox=\"0 -960 960 960\">\n",
              "    <path d=\"M120-120v-720h720v720H120Zm60-500h600v-160H180v160Zm220 220h160v-160H400v160Zm0 220h160v-160H400v160ZM180-400h160v-160H180v160Zm440 0h160v-160H620v160ZM180-180h160v-160H180v160Zm440 0h160v-160H620v160Z\"/>\n",
              "  </svg>\n",
              "    </button>\n",
              "\n",
              "  <style>\n",
              "    .colab-df-container {\n",
              "      display:flex;\n",
              "      gap: 12px;\n",
              "    }\n",
              "\n",
              "    .colab-df-convert {\n",
              "      background-color: #E8F0FE;\n",
              "      border: none;\n",
              "      border-radius: 50%;\n",
              "      cursor: pointer;\n",
              "      display: none;\n",
              "      fill: #1967D2;\n",
              "      height: 32px;\n",
              "      padding: 0 0 0 0;\n",
              "      width: 32px;\n",
              "    }\n",
              "\n",
              "    .colab-df-convert:hover {\n",
              "      background-color: #E2EBFA;\n",
              "      box-shadow: 0px 1px 2px rgba(60, 64, 67, 0.3), 0px 1px 3px 1px rgba(60, 64, 67, 0.15);\n",
              "      fill: #174EA6;\n",
              "    }\n",
              "\n",
              "    .colab-df-buttons div {\n",
              "      margin-bottom: 4px;\n",
              "    }\n",
              "\n",
              "    [theme=dark] .colab-df-convert {\n",
              "      background-color: #3B4455;\n",
              "      fill: #D2E3FC;\n",
              "    }\n",
              "\n",
              "    [theme=dark] .colab-df-convert:hover {\n",
              "      background-color: #434B5C;\n",
              "      box-shadow: 0px 1px 3px 1px rgba(0, 0, 0, 0.15);\n",
              "      filter: drop-shadow(0px 1px 2px rgba(0, 0, 0, 0.3));\n",
              "      fill: #FFFFFF;\n",
              "    }\n",
              "  </style>\n",
              "\n",
              "    <script>\n",
              "      const buttonEl =\n",
              "        document.querySelector('#df-a5f779bb-6a13-4b9c-9ba3-e90a8fab85d3 button.colab-df-convert');\n",
              "      buttonEl.style.display =\n",
              "        google.colab.kernel.accessAllowed ? 'block' : 'none';\n",
              "\n",
              "      async function convertToInteractive(key) {\n",
              "        const element = document.querySelector('#df-a5f779bb-6a13-4b9c-9ba3-e90a8fab85d3');\n",
              "        const dataTable =\n",
              "          await google.colab.kernel.invokeFunction('convertToInteractive',\n",
              "                                                    [key], {});\n",
              "        if (!dataTable) return;\n",
              "\n",
              "        const docLinkHtml = 'Like what you see? Visit the ' +\n",
              "          '<a target=\"_blank\" href=https://colab.research.google.com/notebooks/data_table.ipynb>data table notebook</a>'\n",
              "          + ' to learn more about interactive tables.';\n",
              "        element.innerHTML = '';\n",
              "        dataTable['output_type'] = 'display_data';\n",
              "        await google.colab.output.renderOutput(dataTable, element);\n",
              "        const docLink = document.createElement('div');\n",
              "        docLink.innerHTML = docLinkHtml;\n",
              "        element.appendChild(docLink);\n",
              "      }\n",
              "    </script>\n",
              "  </div>\n",
              "\n",
              "\n",
              "<div id=\"df-9dcc32f1-4a73-49bb-8453-c5253c43c5d7\">\n",
              "  <button class=\"colab-df-quickchart\" onclick=\"quickchart('df-9dcc32f1-4a73-49bb-8453-c5253c43c5d7')\"\n",
              "            title=\"Suggest charts.\"\n",
              "            style=\"display:none;\">\n",
              "\n",
              "<svg xmlns=\"http://www.w3.org/2000/svg\" height=\"24px\"viewBox=\"0 0 24 24\"\n",
              "     width=\"24px\">\n",
              "    <g>\n",
              "        <path d=\"M19 3H5c-1.1 0-2 .9-2 2v14c0 1.1.9 2 2 2h14c1.1 0 2-.9 2-2V5c0-1.1-.9-2-2-2zM9 17H7v-7h2v7zm4 0h-2V7h2v10zm4 0h-2v-4h2v4z\"/>\n",
              "    </g>\n",
              "</svg>\n",
              "  </button>\n",
              "\n",
              "<style>\n",
              "  .colab-df-quickchart {\n",
              "    background-color: #E8F0FE;\n",
              "    border: none;\n",
              "    border-radius: 50%;\n",
              "    cursor: pointer;\n",
              "    display: none;\n",
              "    fill: #1967D2;\n",
              "    height: 32px;\n",
              "    padding: 0 0 0 0;\n",
              "    width: 32px;\n",
              "  }\n",
              "\n",
              "  .colab-df-quickchart:hover {\n",
              "    background-color: #E2EBFA;\n",
              "    box-shadow: 0px 1px 2px rgba(60, 64, 67, 0.3), 0px 1px 3px 1px rgba(60, 64, 67, 0.15);\n",
              "    fill: #174EA6;\n",
              "  }\n",
              "\n",
              "  [theme=dark] .colab-df-quickchart {\n",
              "    background-color: #3B4455;\n",
              "    fill: #D2E3FC;\n",
              "  }\n",
              "\n",
              "  [theme=dark] .colab-df-quickchart:hover {\n",
              "    background-color: #434B5C;\n",
              "    box-shadow: 0px 1px 3px 1px rgba(0, 0, 0, 0.15);\n",
              "    filter: drop-shadow(0px 1px 2px rgba(0, 0, 0, 0.3));\n",
              "    fill: #FFFFFF;\n",
              "  }\n",
              "</style>\n",
              "\n",
              "  <script>\n",
              "    async function quickchart(key) {\n",
              "      const charts = await google.colab.kernel.invokeFunction(\n",
              "          'suggestCharts', [key], {});\n",
              "    }\n",
              "    (() => {\n",
              "      let quickchartButtonEl =\n",
              "        document.querySelector('#df-9dcc32f1-4a73-49bb-8453-c5253c43c5d7 button');\n",
              "      quickchartButtonEl.style.display =\n",
              "        google.colab.kernel.accessAllowed ? 'block' : 'none';\n",
              "    })();\n",
              "  </script>\n",
              "</div>\n",
              "    </div>\n",
              "  </div>\n"
            ]
          },
          "metadata": {},
          "execution_count": 5
        }
      ],
      "source": [
        "data.head()"
      ]
    },
    {
      "cell_type": "code",
      "execution_count": null,
      "metadata": {
        "colab": {
          "base_uri": "https://localhost:8080/"
        },
        "id": "zgrkgaw_nC0n",
        "outputId": "2c071f63-4027-4bd7-cf83-c89f09c6c951"
      },
      "outputs": [
        {
          "output_type": "execute_result",
          "data": {
            "text/plain": [
              "array([12,  8, 11,  9, 10,  7,  6])"
            ]
          },
          "metadata": {},
          "execution_count": 6
        }
      ],
      "source": [
        "data.TENURE.unique()"
      ]
    },
    {
      "cell_type": "code",
      "execution_count": null,
      "metadata": {
        "id": "Hkwo9UNxnD1_"
      },
      "outputs": [],
      "source": [
        "data = data.iloc[:, 1:-1] #dropar colunas clust_id e tenure"
      ]
    },
    {
      "cell_type": "code",
      "execution_count": null,
      "metadata": {
        "colab": {
          "base_uri": "https://localhost:8080/",
          "height": 226
        },
        "id": "RU7qgta6nFMI",
        "outputId": "e5c0ed50-06f4-4ede-c2f2-69affd618204"
      },
      "outputs": [
        {
          "output_type": "execute_result",
          "data": {
            "text/plain": [
              "       BALANCE  BALANCE_FREQUENCY  PURCHASES  ONEOFF_PURCHASES  \\\n",
              "0    40.900749           0.818182      95.40              0.00   \n",
              "1  3202.467416           0.909091       0.00              0.00   \n",
              "2  2495.148862           1.000000     773.17            773.17   \n",
              "3  1666.670542           0.636364    1499.00           1499.00   \n",
              "4   817.714335           1.000000      16.00             16.00   \n",
              "\n",
              "   INSTALLMENTS_PURCHASES  CASH_ADVANCE  PURCHASES_FREQUENCY  \\\n",
              "0                    95.4      0.000000             0.166667   \n",
              "1                     0.0   6442.945483             0.000000   \n",
              "2                     0.0      0.000000             1.000000   \n",
              "3                     0.0    205.788017             0.083333   \n",
              "4                     0.0      0.000000             0.083333   \n",
              "\n",
              "   ONEOFF_PURCHASES_FREQUENCY  PURCHASES_INSTALLMENTS_FREQUENCY  \\\n",
              "0                    0.000000                          0.083333   \n",
              "1                    0.000000                          0.000000   \n",
              "2                    1.000000                          0.000000   \n",
              "3                    0.083333                          0.000000   \n",
              "4                    0.083333                          0.000000   \n",
              "\n",
              "   CASH_ADVANCE_FREQUENCY  CASH_ADVANCE_TRX  PURCHASES_TRX  CREDIT_LIMIT  \\\n",
              "0                0.000000                 0              2        1000.0   \n",
              "1                0.250000                 4              0        7000.0   \n",
              "2                0.000000                 0             12        7500.0   \n",
              "3                0.083333                 1              1        7500.0   \n",
              "4                0.000000                 0              1        1200.0   \n",
              "\n",
              "      PAYMENTS  MINIMUM_PAYMENTS  PRC_FULL_PAYMENT  \n",
              "0   201.802084        139.509787          0.000000  \n",
              "1  4103.032597       1072.340217          0.222222  \n",
              "2   622.066742        627.284787          0.000000  \n",
              "3     0.000000               NaN          0.000000  \n",
              "4   678.334763        244.791237          0.000000  "
            ],
            "text/html": [
              "\n",
              "  <div id=\"df-2cfece79-ad33-4411-955f-bd5583b4caa4\" class=\"colab-df-container\">\n",
              "    <div>\n",
              "<style scoped>\n",
              "    .dataframe tbody tr th:only-of-type {\n",
              "        vertical-align: middle;\n",
              "    }\n",
              "\n",
              "    .dataframe tbody tr th {\n",
              "        vertical-align: top;\n",
              "    }\n",
              "\n",
              "    .dataframe thead th {\n",
              "        text-align: right;\n",
              "    }\n",
              "</style>\n",
              "<table border=\"1\" class=\"dataframe\">\n",
              "  <thead>\n",
              "    <tr style=\"text-align: right;\">\n",
              "      <th></th>\n",
              "      <th>BALANCE</th>\n",
              "      <th>BALANCE_FREQUENCY</th>\n",
              "      <th>PURCHASES</th>\n",
              "      <th>ONEOFF_PURCHASES</th>\n",
              "      <th>INSTALLMENTS_PURCHASES</th>\n",
              "      <th>CASH_ADVANCE</th>\n",
              "      <th>PURCHASES_FREQUENCY</th>\n",
              "      <th>ONEOFF_PURCHASES_FREQUENCY</th>\n",
              "      <th>PURCHASES_INSTALLMENTS_FREQUENCY</th>\n",
              "      <th>CASH_ADVANCE_FREQUENCY</th>\n",
              "      <th>CASH_ADVANCE_TRX</th>\n",
              "      <th>PURCHASES_TRX</th>\n",
              "      <th>CREDIT_LIMIT</th>\n",
              "      <th>PAYMENTS</th>\n",
              "      <th>MINIMUM_PAYMENTS</th>\n",
              "      <th>PRC_FULL_PAYMENT</th>\n",
              "    </tr>\n",
              "  </thead>\n",
              "  <tbody>\n",
              "    <tr>\n",
              "      <th>0</th>\n",
              "      <td>40.900749</td>\n",
              "      <td>0.818182</td>\n",
              "      <td>95.40</td>\n",
              "      <td>0.00</td>\n",
              "      <td>95.4</td>\n",
              "      <td>0.000000</td>\n",
              "      <td>0.166667</td>\n",
              "      <td>0.000000</td>\n",
              "      <td>0.083333</td>\n",
              "      <td>0.000000</td>\n",
              "      <td>0</td>\n",
              "      <td>2</td>\n",
              "      <td>1000.0</td>\n",
              "      <td>201.802084</td>\n",
              "      <td>139.509787</td>\n",
              "      <td>0.000000</td>\n",
              "    </tr>\n",
              "    <tr>\n",
              "      <th>1</th>\n",
              "      <td>3202.467416</td>\n",
              "      <td>0.909091</td>\n",
              "      <td>0.00</td>\n",
              "      <td>0.00</td>\n",
              "      <td>0.0</td>\n",
              "      <td>6442.945483</td>\n",
              "      <td>0.000000</td>\n",
              "      <td>0.000000</td>\n",
              "      <td>0.000000</td>\n",
              "      <td>0.250000</td>\n",
              "      <td>4</td>\n",
              "      <td>0</td>\n",
              "      <td>7000.0</td>\n",
              "      <td>4103.032597</td>\n",
              "      <td>1072.340217</td>\n",
              "      <td>0.222222</td>\n",
              "    </tr>\n",
              "    <tr>\n",
              "      <th>2</th>\n",
              "      <td>2495.148862</td>\n",
              "      <td>1.000000</td>\n",
              "      <td>773.17</td>\n",
              "      <td>773.17</td>\n",
              "      <td>0.0</td>\n",
              "      <td>0.000000</td>\n",
              "      <td>1.000000</td>\n",
              "      <td>1.000000</td>\n",
              "      <td>0.000000</td>\n",
              "      <td>0.000000</td>\n",
              "      <td>0</td>\n",
              "      <td>12</td>\n",
              "      <td>7500.0</td>\n",
              "      <td>622.066742</td>\n",
              "      <td>627.284787</td>\n",
              "      <td>0.000000</td>\n",
              "    </tr>\n",
              "    <tr>\n",
              "      <th>3</th>\n",
              "      <td>1666.670542</td>\n",
              "      <td>0.636364</td>\n",
              "      <td>1499.00</td>\n",
              "      <td>1499.00</td>\n",
              "      <td>0.0</td>\n",
              "      <td>205.788017</td>\n",
              "      <td>0.083333</td>\n",
              "      <td>0.083333</td>\n",
              "      <td>0.000000</td>\n",
              "      <td>0.083333</td>\n",
              "      <td>1</td>\n",
              "      <td>1</td>\n",
              "      <td>7500.0</td>\n",
              "      <td>0.000000</td>\n",
              "      <td>NaN</td>\n",
              "      <td>0.000000</td>\n",
              "    </tr>\n",
              "    <tr>\n",
              "      <th>4</th>\n",
              "      <td>817.714335</td>\n",
              "      <td>1.000000</td>\n",
              "      <td>16.00</td>\n",
              "      <td>16.00</td>\n",
              "      <td>0.0</td>\n",
              "      <td>0.000000</td>\n",
              "      <td>0.083333</td>\n",
              "      <td>0.083333</td>\n",
              "      <td>0.000000</td>\n",
              "      <td>0.000000</td>\n",
              "      <td>0</td>\n",
              "      <td>1</td>\n",
              "      <td>1200.0</td>\n",
              "      <td>678.334763</td>\n",
              "      <td>244.791237</td>\n",
              "      <td>0.000000</td>\n",
              "    </tr>\n",
              "  </tbody>\n",
              "</table>\n",
              "</div>\n",
              "    <div class=\"colab-df-buttons\">\n",
              "\n",
              "  <div class=\"colab-df-container\">\n",
              "    <button class=\"colab-df-convert\" onclick=\"convertToInteractive('df-2cfece79-ad33-4411-955f-bd5583b4caa4')\"\n",
              "            title=\"Convert this dataframe to an interactive table.\"\n",
              "            style=\"display:none;\">\n",
              "\n",
              "  <svg xmlns=\"http://www.w3.org/2000/svg\" height=\"24px\" viewBox=\"0 -960 960 960\">\n",
              "    <path d=\"M120-120v-720h720v720H120Zm60-500h600v-160H180v160Zm220 220h160v-160H400v160Zm0 220h160v-160H400v160ZM180-400h160v-160H180v160Zm440 0h160v-160H620v160ZM180-180h160v-160H180v160Zm440 0h160v-160H620v160Z\"/>\n",
              "  </svg>\n",
              "    </button>\n",
              "\n",
              "  <style>\n",
              "    .colab-df-container {\n",
              "      display:flex;\n",
              "      gap: 12px;\n",
              "    }\n",
              "\n",
              "    .colab-df-convert {\n",
              "      background-color: #E8F0FE;\n",
              "      border: none;\n",
              "      border-radius: 50%;\n",
              "      cursor: pointer;\n",
              "      display: none;\n",
              "      fill: #1967D2;\n",
              "      height: 32px;\n",
              "      padding: 0 0 0 0;\n",
              "      width: 32px;\n",
              "    }\n",
              "\n",
              "    .colab-df-convert:hover {\n",
              "      background-color: #E2EBFA;\n",
              "      box-shadow: 0px 1px 2px rgba(60, 64, 67, 0.3), 0px 1px 3px 1px rgba(60, 64, 67, 0.15);\n",
              "      fill: #174EA6;\n",
              "    }\n",
              "\n",
              "    .colab-df-buttons div {\n",
              "      margin-bottom: 4px;\n",
              "    }\n",
              "\n",
              "    [theme=dark] .colab-df-convert {\n",
              "      background-color: #3B4455;\n",
              "      fill: #D2E3FC;\n",
              "    }\n",
              "\n",
              "    [theme=dark] .colab-df-convert:hover {\n",
              "      background-color: #434B5C;\n",
              "      box-shadow: 0px 1px 3px 1px rgba(0, 0, 0, 0.15);\n",
              "      filter: drop-shadow(0px 1px 2px rgba(0, 0, 0, 0.3));\n",
              "      fill: #FFFFFF;\n",
              "    }\n",
              "  </style>\n",
              "\n",
              "    <script>\n",
              "      const buttonEl =\n",
              "        document.querySelector('#df-2cfece79-ad33-4411-955f-bd5583b4caa4 button.colab-df-convert');\n",
              "      buttonEl.style.display =\n",
              "        google.colab.kernel.accessAllowed ? 'block' : 'none';\n",
              "\n",
              "      async function convertToInteractive(key) {\n",
              "        const element = document.querySelector('#df-2cfece79-ad33-4411-955f-bd5583b4caa4');\n",
              "        const dataTable =\n",
              "          await google.colab.kernel.invokeFunction('convertToInteractive',\n",
              "                                                    [key], {});\n",
              "        if (!dataTable) return;\n",
              "\n",
              "        const docLinkHtml = 'Like what you see? Visit the ' +\n",
              "          '<a target=\"_blank\" href=https://colab.research.google.com/notebooks/data_table.ipynb>data table notebook</a>'\n",
              "          + ' to learn more about interactive tables.';\n",
              "        element.innerHTML = '';\n",
              "        dataTable['output_type'] = 'display_data';\n",
              "        await google.colab.output.renderOutput(dataTable, element);\n",
              "        const docLink = document.createElement('div');\n",
              "        docLink.innerHTML = docLinkHtml;\n",
              "        element.appendChild(docLink);\n",
              "      }\n",
              "    </script>\n",
              "  </div>\n",
              "\n",
              "\n",
              "<div id=\"df-a9ef896f-3647-4d50-9487-4072844b387d\">\n",
              "  <button class=\"colab-df-quickchart\" onclick=\"quickchart('df-a9ef896f-3647-4d50-9487-4072844b387d')\"\n",
              "            title=\"Suggest charts.\"\n",
              "            style=\"display:none;\">\n",
              "\n",
              "<svg xmlns=\"http://www.w3.org/2000/svg\" height=\"24px\"viewBox=\"0 0 24 24\"\n",
              "     width=\"24px\">\n",
              "    <g>\n",
              "        <path d=\"M19 3H5c-1.1 0-2 .9-2 2v14c0 1.1.9 2 2 2h14c1.1 0 2-.9 2-2V5c0-1.1-.9-2-2-2zM9 17H7v-7h2v7zm4 0h-2V7h2v10zm4 0h-2v-4h2v4z\"/>\n",
              "    </g>\n",
              "</svg>\n",
              "  </button>\n",
              "\n",
              "<style>\n",
              "  .colab-df-quickchart {\n",
              "    background-color: #E8F0FE;\n",
              "    border: none;\n",
              "    border-radius: 50%;\n",
              "    cursor: pointer;\n",
              "    display: none;\n",
              "    fill: #1967D2;\n",
              "    height: 32px;\n",
              "    padding: 0 0 0 0;\n",
              "    width: 32px;\n",
              "  }\n",
              "\n",
              "  .colab-df-quickchart:hover {\n",
              "    background-color: #E2EBFA;\n",
              "    box-shadow: 0px 1px 2px rgba(60, 64, 67, 0.3), 0px 1px 3px 1px rgba(60, 64, 67, 0.15);\n",
              "    fill: #174EA6;\n",
              "  }\n",
              "\n",
              "  [theme=dark] .colab-df-quickchart {\n",
              "    background-color: #3B4455;\n",
              "    fill: #D2E3FC;\n",
              "  }\n",
              "\n",
              "  [theme=dark] .colab-df-quickchart:hover {\n",
              "    background-color: #434B5C;\n",
              "    box-shadow: 0px 1px 3px 1px rgba(0, 0, 0, 0.15);\n",
              "    filter: drop-shadow(0px 1px 2px rgba(0, 0, 0, 0.3));\n",
              "    fill: #FFFFFF;\n",
              "  }\n",
              "</style>\n",
              "\n",
              "  <script>\n",
              "    async function quickchart(key) {\n",
              "      const charts = await google.colab.kernel.invokeFunction(\n",
              "          'suggestCharts', [key], {});\n",
              "    }\n",
              "    (() => {\n",
              "      let quickchartButtonEl =\n",
              "        document.querySelector('#df-a9ef896f-3647-4d50-9487-4072844b387d button');\n",
              "      quickchartButtonEl.style.display =\n",
              "        google.colab.kernel.accessAllowed ? 'block' : 'none';\n",
              "    })();\n",
              "  </script>\n",
              "</div>\n",
              "    </div>\n",
              "  </div>\n"
            ]
          },
          "metadata": {},
          "execution_count": 8
        }
      ],
      "source": [
        "data.head()"
      ]
    },
    {
      "cell_type": "code",
      "execution_count": null,
      "metadata": {
        "colab": {
          "base_uri": "https://localhost:8080/"
        },
        "id": "QHunk8pYnGTn",
        "outputId": "82a5df9f-8f47-44f6-fc4f-de1ab1bef54c"
      },
      "outputs": [
        {
          "output_type": "execute_result",
          "data": {
            "text/plain": [
              "BALANCE                               0\n",
              "BALANCE_FREQUENCY                     0\n",
              "PURCHASES                             0\n",
              "ONEOFF_PURCHASES                      0\n",
              "INSTALLMENTS_PURCHASES                0\n",
              "CASH_ADVANCE                          0\n",
              "PURCHASES_FREQUENCY                   0\n",
              "ONEOFF_PURCHASES_FREQUENCY            0\n",
              "PURCHASES_INSTALLMENTS_FREQUENCY      0\n",
              "CASH_ADVANCE_FREQUENCY                0\n",
              "CASH_ADVANCE_TRX                      0\n",
              "PURCHASES_TRX                         0\n",
              "CREDIT_LIMIT                          1\n",
              "PAYMENTS                              0\n",
              "MINIMUM_PAYMENTS                    313\n",
              "PRC_FULL_PAYMENT                      0\n",
              "dtype: int64"
            ]
          },
          "metadata": {},
          "execution_count": 9
        }
      ],
      "source": [
        "data.isna().sum()"
      ]
    },
    {
      "cell_type": "code",
      "execution_count": null,
      "metadata": {
        "id": "0EaI3slvnII3"
      },
      "outputs": [],
      "source": [
        "data = data.fillna(data.median())"
      ]
    },
    {
      "cell_type": "code",
      "execution_count": null,
      "metadata": {
        "colab": {
          "base_uri": "https://localhost:8080/"
        },
        "id": "tpvkg7bpnJTH",
        "outputId": "62023ecb-7cc2-4dcb-ed1b-5e3804008614"
      },
      "outputs": [
        {
          "output_type": "execute_result",
          "data": {
            "text/plain": [
              "BALANCE                             0\n",
              "BALANCE_FREQUENCY                   0\n",
              "PURCHASES                           0\n",
              "ONEOFF_PURCHASES                    0\n",
              "INSTALLMENTS_PURCHASES              0\n",
              "CASH_ADVANCE                        0\n",
              "PURCHASES_FREQUENCY                 0\n",
              "ONEOFF_PURCHASES_FREQUENCY          0\n",
              "PURCHASES_INSTALLMENTS_FREQUENCY    0\n",
              "CASH_ADVANCE_FREQUENCY              0\n",
              "CASH_ADVANCE_TRX                    0\n",
              "PURCHASES_TRX                       0\n",
              "CREDIT_LIMIT                        0\n",
              "PAYMENTS                            0\n",
              "MINIMUM_PAYMENTS                    0\n",
              "PRC_FULL_PAYMENT                    0\n",
              "dtype: int64"
            ]
          },
          "metadata": {},
          "execution_count": 11
        }
      ],
      "source": [
        "data.isna().sum()"
      ]
    },
    {
      "cell_type": "code",
      "execution_count": null,
      "metadata": {
        "id": "O1LiM9ETnKoP"
      },
      "outputs": [],
      "source": [
        "SEED = 1224\n",
        "\n",
        "pca_pipeline = Pipeline([(\"scaler\", StandardScaler()), (\"PCA\", PCA(n_components=2, random_state=SEED ))]) #2 dimensoes para poder gerar o grafico"
      ]
    },
    {
      "cell_type": "code",
      "execution_count": null,
      "metadata": {
        "id": "SB9r6r72nMt4"
      },
      "outputs": [],
      "source": [
        "embedding_pca = pca_pipeline.fit_transform(data)"
      ]
    },
    {
      "cell_type": "code",
      "execution_count": null,
      "metadata": {
        "colab": {
          "base_uri": "https://localhost:8080/"
        },
        "id": "zXABaRk0nOCX",
        "outputId": "34c275e8-7ced-4ec2-9964-9abc647da845"
      },
      "outputs": [
        {
          "output_type": "execute_result",
          "data": {
            "text/plain": [
              "array([[-1.7203633 , -1.06878073],\n",
              "       [-1.16513206,  2.51195171],\n",
              "       [ 0.93810144, -0.38267333],\n",
              "       ...,\n",
              "       [-0.59640274, -1.82508562],\n",
              "       [-2.00871151, -0.66914672],\n",
              "       [-0.21925986, -0.41837037]])"
            ]
          },
          "metadata": {},
          "execution_count": 14
        }
      ],
      "source": [
        "embedding_pca"
      ]
    },
    {
      "cell_type": "code",
      "execution_count": null,
      "metadata": {
        "colab": {
          "base_uri": "https://localhost:8080/",
          "height": 423
        },
        "id": "S7lEcYnEnPIP",
        "outputId": "44e58281-c08f-4b05-9e22-ae3f682e3f4f"
      },
      "outputs": [
        {
          "output_type": "execute_result",
          "data": {
            "text/plain": [
              "             x         y\n",
              "0    -1.720363 -1.068781\n",
              "1    -1.165132  2.511952\n",
              "2     0.938101 -0.382673\n",
              "3    -0.921952  0.007297\n",
              "4    -1.638459 -0.680244\n",
              "...        ...       ...\n",
              "8945 -0.027956 -2.031116\n",
              "8946 -0.249119 -1.692904\n",
              "8947 -0.596403 -1.825086\n",
              "8948 -2.008712 -0.669147\n",
              "8949 -0.219260 -0.418370\n",
              "\n",
              "[8950 rows x 2 columns]"
            ],
            "text/html": [
              "\n",
              "  <div id=\"df-d9bc8c43-c0d1-4ca3-bc73-e1967cc23b0c\" class=\"colab-df-container\">\n",
              "    <div>\n",
              "<style scoped>\n",
              "    .dataframe tbody tr th:only-of-type {\n",
              "        vertical-align: middle;\n",
              "    }\n",
              "\n",
              "    .dataframe tbody tr th {\n",
              "        vertical-align: top;\n",
              "    }\n",
              "\n",
              "    .dataframe thead th {\n",
              "        text-align: right;\n",
              "    }\n",
              "</style>\n",
              "<table border=\"1\" class=\"dataframe\">\n",
              "  <thead>\n",
              "    <tr style=\"text-align: right;\">\n",
              "      <th></th>\n",
              "      <th>x</th>\n",
              "      <th>y</th>\n",
              "    </tr>\n",
              "  </thead>\n",
              "  <tbody>\n",
              "    <tr>\n",
              "      <th>0</th>\n",
              "      <td>-1.720363</td>\n",
              "      <td>-1.068781</td>\n",
              "    </tr>\n",
              "    <tr>\n",
              "      <th>1</th>\n",
              "      <td>-1.165132</td>\n",
              "      <td>2.511952</td>\n",
              "    </tr>\n",
              "    <tr>\n",
              "      <th>2</th>\n",
              "      <td>0.938101</td>\n",
              "      <td>-0.382673</td>\n",
              "    </tr>\n",
              "    <tr>\n",
              "      <th>3</th>\n",
              "      <td>-0.921952</td>\n",
              "      <td>0.007297</td>\n",
              "    </tr>\n",
              "    <tr>\n",
              "      <th>4</th>\n",
              "      <td>-1.638459</td>\n",
              "      <td>-0.680244</td>\n",
              "    </tr>\n",
              "    <tr>\n",
              "      <th>...</th>\n",
              "      <td>...</td>\n",
              "      <td>...</td>\n",
              "    </tr>\n",
              "    <tr>\n",
              "      <th>8945</th>\n",
              "      <td>-0.027956</td>\n",
              "      <td>-2.031116</td>\n",
              "    </tr>\n",
              "    <tr>\n",
              "      <th>8946</th>\n",
              "      <td>-0.249119</td>\n",
              "      <td>-1.692904</td>\n",
              "    </tr>\n",
              "    <tr>\n",
              "      <th>8947</th>\n",
              "      <td>-0.596403</td>\n",
              "      <td>-1.825086</td>\n",
              "    </tr>\n",
              "    <tr>\n",
              "      <th>8948</th>\n",
              "      <td>-2.008712</td>\n",
              "      <td>-0.669147</td>\n",
              "    </tr>\n",
              "    <tr>\n",
              "      <th>8949</th>\n",
              "      <td>-0.219260</td>\n",
              "      <td>-0.418370</td>\n",
              "    </tr>\n",
              "  </tbody>\n",
              "</table>\n",
              "<p>8950 rows × 2 columns</p>\n",
              "</div>\n",
              "    <div class=\"colab-df-buttons\">\n",
              "\n",
              "  <div class=\"colab-df-container\">\n",
              "    <button class=\"colab-df-convert\" onclick=\"convertToInteractive('df-d9bc8c43-c0d1-4ca3-bc73-e1967cc23b0c')\"\n",
              "            title=\"Convert this dataframe to an interactive table.\"\n",
              "            style=\"display:none;\">\n",
              "\n",
              "  <svg xmlns=\"http://www.w3.org/2000/svg\" height=\"24px\" viewBox=\"0 -960 960 960\">\n",
              "    <path d=\"M120-120v-720h720v720H120Zm60-500h600v-160H180v160Zm220 220h160v-160H400v160Zm0 220h160v-160H400v160ZM180-400h160v-160H180v160Zm440 0h160v-160H620v160ZM180-180h160v-160H180v160Zm440 0h160v-160H620v160Z\"/>\n",
              "  </svg>\n",
              "    </button>\n",
              "\n",
              "  <style>\n",
              "    .colab-df-container {\n",
              "      display:flex;\n",
              "      gap: 12px;\n",
              "    }\n",
              "\n",
              "    .colab-df-convert {\n",
              "      background-color: #E8F0FE;\n",
              "      border: none;\n",
              "      border-radius: 50%;\n",
              "      cursor: pointer;\n",
              "      display: none;\n",
              "      fill: #1967D2;\n",
              "      height: 32px;\n",
              "      padding: 0 0 0 0;\n",
              "      width: 32px;\n",
              "    }\n",
              "\n",
              "    .colab-df-convert:hover {\n",
              "      background-color: #E2EBFA;\n",
              "      box-shadow: 0px 1px 2px rgba(60, 64, 67, 0.3), 0px 1px 3px 1px rgba(60, 64, 67, 0.15);\n",
              "      fill: #174EA6;\n",
              "    }\n",
              "\n",
              "    .colab-df-buttons div {\n",
              "      margin-bottom: 4px;\n",
              "    }\n",
              "\n",
              "    [theme=dark] .colab-df-convert {\n",
              "      background-color: #3B4455;\n",
              "      fill: #D2E3FC;\n",
              "    }\n",
              "\n",
              "    [theme=dark] .colab-df-convert:hover {\n",
              "      background-color: #434B5C;\n",
              "      box-shadow: 0px 1px 3px 1px rgba(0, 0, 0, 0.15);\n",
              "      filter: drop-shadow(0px 1px 2px rgba(0, 0, 0, 0.3));\n",
              "      fill: #FFFFFF;\n",
              "    }\n",
              "  </style>\n",
              "\n",
              "    <script>\n",
              "      const buttonEl =\n",
              "        document.querySelector('#df-d9bc8c43-c0d1-4ca3-bc73-e1967cc23b0c button.colab-df-convert');\n",
              "      buttonEl.style.display =\n",
              "        google.colab.kernel.accessAllowed ? 'block' : 'none';\n",
              "\n",
              "      async function convertToInteractive(key) {\n",
              "        const element = document.querySelector('#df-d9bc8c43-c0d1-4ca3-bc73-e1967cc23b0c');\n",
              "        const dataTable =\n",
              "          await google.colab.kernel.invokeFunction('convertToInteractive',\n",
              "                                                    [key], {});\n",
              "        if (!dataTable) return;\n",
              "\n",
              "        const docLinkHtml = 'Like what you see? Visit the ' +\n",
              "          '<a target=\"_blank\" href=https://colab.research.google.com/notebooks/data_table.ipynb>data table notebook</a>'\n",
              "          + ' to learn more about interactive tables.';\n",
              "        element.innerHTML = '';\n",
              "        dataTable['output_type'] = 'display_data';\n",
              "        await google.colab.output.renderOutput(dataTable, element);\n",
              "        const docLink = document.createElement('div');\n",
              "        docLink.innerHTML = docLinkHtml;\n",
              "        element.appendChild(docLink);\n",
              "      }\n",
              "    </script>\n",
              "  </div>\n",
              "\n",
              "\n",
              "<div id=\"df-5954be7b-4d11-44b1-b085-14179c440958\">\n",
              "  <button class=\"colab-df-quickchart\" onclick=\"quickchart('df-5954be7b-4d11-44b1-b085-14179c440958')\"\n",
              "            title=\"Suggest charts.\"\n",
              "            style=\"display:none;\">\n",
              "\n",
              "<svg xmlns=\"http://www.w3.org/2000/svg\" height=\"24px\"viewBox=\"0 0 24 24\"\n",
              "     width=\"24px\">\n",
              "    <g>\n",
              "        <path d=\"M19 3H5c-1.1 0-2 .9-2 2v14c0 1.1.9 2 2 2h14c1.1 0 2-.9 2-2V5c0-1.1-.9-2-2-2zM9 17H7v-7h2v7zm4 0h-2V7h2v10zm4 0h-2v-4h2v4z\"/>\n",
              "    </g>\n",
              "</svg>\n",
              "  </button>\n",
              "\n",
              "<style>\n",
              "  .colab-df-quickchart {\n",
              "    background-color: #E8F0FE;\n",
              "    border: none;\n",
              "    border-radius: 50%;\n",
              "    cursor: pointer;\n",
              "    display: none;\n",
              "    fill: #1967D2;\n",
              "    height: 32px;\n",
              "    padding: 0 0 0 0;\n",
              "    width: 32px;\n",
              "  }\n",
              "\n",
              "  .colab-df-quickchart:hover {\n",
              "    background-color: #E2EBFA;\n",
              "    box-shadow: 0px 1px 2px rgba(60, 64, 67, 0.3), 0px 1px 3px 1px rgba(60, 64, 67, 0.15);\n",
              "    fill: #174EA6;\n",
              "  }\n",
              "\n",
              "  [theme=dark] .colab-df-quickchart {\n",
              "    background-color: #3B4455;\n",
              "    fill: #D2E3FC;\n",
              "  }\n",
              "\n",
              "  [theme=dark] .colab-df-quickchart:hover {\n",
              "    background-color: #434B5C;\n",
              "    box-shadow: 0px 1px 3px 1px rgba(0, 0, 0, 0.15);\n",
              "    filter: drop-shadow(0px 1px 2px rgba(0, 0, 0, 0.3));\n",
              "    fill: #FFFFFF;\n",
              "  }\n",
              "</style>\n",
              "\n",
              "  <script>\n",
              "    async function quickchart(key) {\n",
              "      const charts = await google.colab.kernel.invokeFunction(\n",
              "          'suggestCharts', [key], {});\n",
              "    }\n",
              "    (() => {\n",
              "      let quickchartButtonEl =\n",
              "        document.querySelector('#df-5954be7b-4d11-44b1-b085-14179c440958 button');\n",
              "      quickchartButtonEl.style.display =\n",
              "        google.colab.kernel.accessAllowed ? 'block' : 'none';\n",
              "    })();\n",
              "  </script>\n",
              "</div>\n",
              "    </div>\n",
              "  </div>\n"
            ]
          },
          "metadata": {},
          "execution_count": 15
        }
      ],
      "source": [
        "projection = pd.DataFrame(columns = [\"x\", \"y\"], data= embedding_pca)\n",
        "projection"
      ]
    },
    {
      "cell_type": "code",
      "execution_count": null,
      "metadata": {
        "colab": {
          "base_uri": "https://localhost:8080/"
        },
        "id": "eMeWzw2bnTBY",
        "outputId": "5bbbeaef-87b8-4928-eaf4-0a34b6360485"
      },
      "outputs": [
        {
          "output_type": "execute_result",
          "data": {
            "text/plain": [
              "(8950, 2)"
            ]
          },
          "metadata": {},
          "execution_count": 16
        }
      ],
      "source": [
        "projection.shape"
      ]
    },
    {
      "cell_type": "code",
      "execution_count": null,
      "metadata": {
        "id": "f7S65_IpnXco"
      },
      "outputs": [],
      "source": [
        "projection = projection.iloc[:100,:] #agilizar a depuracao das funcoes"
      ]
    },
    {
      "cell_type": "code",
      "execution_count": null,
      "metadata": {
        "colab": {
          "base_uri": "https://localhost:8080/"
        },
        "id": "91qdMpjOnYkX",
        "outputId": "ec7b1180-b47f-4f6f-f5c6-5cc42a66fa95"
      },
      "outputs": [
        {
          "output_type": "execute_result",
          "data": {
            "text/plain": [
              "(100, 2)"
            ]
          },
          "metadata": {},
          "execution_count": 18
        }
      ],
      "source": [
        "projection.shape"
      ]
    },
    {
      "cell_type": "code",
      "execution_count": null,
      "metadata": {
        "colab": {
          "base_uri": "https://localhost:8080/"
        },
        "id": "7jsnfqmLoxXS",
        "outputId": "9138f1ee-9e2a-4a42-a35e-200e843a9760"
      },
      "outputs": [
        {
          "output_type": "execute_result",
          "data": {
            "text/plain": [
              "array([[0, 0]], dtype=object)"
            ]
          },
          "metadata": {},
          "execution_count": 19
        }
      ],
      "source": [
        "np.zeros((1, projection.shape[1]), dtype=object)"
      ]
    },
    {
      "cell_type": "code",
      "execution_count": null,
      "metadata": {
        "id": "1-PX5_p5nZiH"
      },
      "outputs": [],
      "source": [
        "def euclidean_distance(defined_centroids: np.ndarray, to_be_compared: pd.core.series.Series): #executado 1x para cada a 1 registro a ser comparado\n",
        "\n",
        "  current_sum_checking = 0 #MDS ELE TAVA COMPARANDO COM OS ZEROS QUE TAO VAZIOS AAA EZ AGORA\n",
        "\n",
        "  for count, value in enumerate(defined_centroids):\n",
        "\n",
        "    if not np.all(value == 0):\n",
        "\n",
        "      current_sum_checking += np.linalg.norm(to_be_compared - defined_centroids[count])\n",
        "\n",
        "  return current_sum_checking"
      ]
    },
    {
      "cell_type": "code",
      "execution_count": null,
      "metadata": {
        "id": "RiplM2VYoJy0"
      },
      "outputs": [],
      "source": [
        "def initialize_centroids(amt_centroids: int, dataframe: pd.DataFrame, random_seed: int = None):\n",
        "\n",
        "  try:\n",
        "\n",
        "    dataframe = dataframe.round(2)\n",
        "\n",
        "  except ValueError as e:\n",
        "\n",
        "    raise\n",
        "\n",
        "  if random_seed is not None:\n",
        "\n",
        "    np.random.seed(random_seed)\n",
        "\n",
        "  centroid_coordinates = np.zeros((amt_centroids, dataframe.shape[1]), dtype=object) #usando nd.array para poder aplicar o metodo norm do np.linalg\n",
        "\n",
        "  historic_coordinates = []\n",
        "\n",
        "  try:\n",
        "\n",
        "    centroid_coordinates[0] = dataframe.iloc[np.random.randint(0, len(dataframe)), :]\n",
        "\n",
        "    historic_coordinates.append(centroid_coordinates)\n",
        "\n",
        "  except ValueError as e:\n",
        "\n",
        "    raise\n",
        "\n",
        "  current_biggest_distance = {\"distance\": 0, \"index\": 0}\n",
        "\n",
        "  for i in range(1, amt_centroids):\n",
        "\n",
        "    current_biggest_distance = {\"distance\": 0, \"index\": 0}\n",
        "\n",
        "    for count, (_, row_value) in enumerate(dataframe.iterrows()): #nao precisa excluir a possibilidade de definir mesmo registro para 2 centroides diferentes, proprio calculo de distancia vai fazer isso\n",
        "\n",
        "      current_distance = euclidean_distance(centroid_coordinates, row_value) #aq tava errado, tava pegando a soma? sim\n",
        "\n",
        "      if current_distance > current_biggest_distance[\"distance\"]:\n",
        "\n",
        "        current_biggest_distance[\"distance\"] = current_distance\n",
        "\n",
        "        current_biggest_distance[\"index\"] = count\n",
        "\n",
        "        append_historic = np.copy(centroid_coordinates)\n",
        "\n",
        "        append_historic[i] = dataframe.iloc[current_biggest_distance[\"index\"], :]\n",
        "\n",
        "        historic_coordinates.append(append_historic) #treta nao é do append\n",
        "\n",
        "    centroid_coordinates[i] = dataframe.iloc[current_biggest_distance[\"index\"], :].values #acho que eu deveria estar usando values aq\n",
        "\n",
        "  historic_coordinates[0][1:] = [0] * (len(historic_coordinates[0]) - 1)\n",
        "\n",
        "  return historic_coordinates[-1][:], historic_coordinates #só depurar; retornar tanto valores quanto indexes > dps colocar um retorno para plottar os centroides durante definicao\n"
      ]
    },
    {
      "cell_type": "code",
      "execution_count": null,
      "metadata": {
        "id": "rM-4U-_f1wIT"
      },
      "outputs": [],
      "source": [
        "centroid_coordinates, historic_coordinates= initialize_centroids(amt_centroids= 3, dataframe= projection, random_seed= 1226)"
      ]
    },
    {
      "cell_type": "code",
      "execution_count": null,
      "metadata": {
        "colab": {
          "base_uri": "https://localhost:8080/"
        },
        "id": "IMuRxVShY3Ho",
        "outputId": "d45c018b-da4f-4583-be96-58e702e9b038"
      },
      "outputs": [
        {
          "output_type": "execute_result",
          "data": {
            "text/plain": [
              "array([[-1.17, 2.51],\n",
              "       [4.79, 10.95],\n",
              "       [6.34, -0.71]], dtype=object)"
            ]
          },
          "metadata": {},
          "execution_count": 23
        }
      ],
      "source": [
        "centroid_coordinates"
      ]
    },
    {
      "cell_type": "code",
      "execution_count": null,
      "metadata": {
        "colab": {
          "base_uri": "https://localhost:8080/"
        },
        "id": "tcJKfwNTcPxc",
        "outputId": "0754d923-3b49-4ac3-9349-e43f62beab1c"
      },
      "outputs": [
        {
          "output_type": "execute_result",
          "data": {
            "text/plain": [
              "[array([[-1.17, 2.51],\n",
              "        [0, 0],\n",
              "        [0, 0]], dtype=object),\n",
              " array([[-1.17, 2.51],\n",
              "        [-1.72, -1.07],\n",
              "        [0, 0]], dtype=object),\n",
              " array([[-1.17, 2.51],\n",
              "        [6.34, -0.71],\n",
              "        [0, 0]], dtype=object),\n",
              " array([[-1.17, 2.51],\n",
              "        [4.79, 10.95],\n",
              "        [0, 0]], dtype=object),\n",
              " array([[-1.17, 2.51],\n",
              "        [4.79, 10.95],\n",
              "        [-1.72, -1.07]], dtype=object),\n",
              " array([[-1.17, 2.51],\n",
              "        [4.79, 10.95],\n",
              "        [6.34, -0.71]], dtype=object)]"
            ]
          },
          "metadata": {},
          "execution_count": 24
        }
      ],
      "source": [
        "historic_coordinates"
      ]
    },
    {
      "cell_type": "code",
      "execution_count": null,
      "metadata": {
        "colab": {
          "base_uri": "https://localhost:8080/",
          "height": 472
        },
        "id": "Tk-zNdCdWEG7",
        "outputId": "53a9c0f8-800c-4e8b-edc8-d7c340eec9d8"
      },
      "outputs": [
        {
          "output_type": "display_data",
          "data": {
            "text/plain": [
              "<Figure size 640x480 with 1 Axes>"
            ],
            "image/png": "[encoded data removed]"
          },
          "metadata": {}
        }
      ],
      "source": [
        "plt.scatter(centroid_coordinates[:, 0], centroid_coordinates[:, 1])\n",
        "plt.xlabel('X Coordinate')\n",
        "plt.ylabel('Y Coordinate')\n",
        "plt.title('Scatter Plot of Coordinates')\n",
        "plt.show()"
      ]
    },
    {
      "cell_type": "code",
      "execution_count": null,
      "metadata": {
        "id": "5ZY2NPArAkAp"
      },
      "outputs": [],
      "source": [
        "#plottar as modificacoes dos centroides!!"
      ]
    },
    {
      "cell_type": "code",
      "execution_count": null,
      "metadata": {
        "colab": {
          "base_uri": "https://localhost:8080/"
        },
        "id": "3cusiqVy2Ig5",
        "outputId": "bfb3b9bd-3d6b-41be-da6a-2c57bac8d2c2"
      },
      "outputs": [
        {
          "output_type": "execute_result",
          "data": {
            "text/plain": [
              "[array([[-1.17, 2.51],\n",
              "        [0, 0],\n",
              "        [0, 0]], dtype=object),\n",
              " array([[-1.17, 2.51],\n",
              "        [-1.72, -1.07],\n",
              "        [0, 0]], dtype=object),\n",
              " array([[-1.17, 2.51],\n",
              "        [6.34, -0.71],\n",
              "        [0, 0]], dtype=object),\n",
              " array([[-1.17, 2.51],\n",
              "        [4.79, 10.95],\n",
              "        [0, 0]], dtype=object),\n",
              " array([[-1.17, 2.51],\n",
              "        [4.79, 10.95],\n",
              "        [-1.72, -1.07]], dtype=object),\n",
              " array([[-1.17, 2.51],\n",
              "        [4.79, 10.95],\n",
              "        [6.34, -0.71]], dtype=object)]"
            ]
          },
          "metadata": {},
          "execution_count": 27
        }
      ],
      "source": [
        "historic_coordinates"
      ]
    },
    {
      "cell_type": "code",
      "execution_count": null,
      "metadata": {
        "id": "F-C-_5UI4rf2"
      },
      "outputs": [],
      "source": [
        "def plot_coordinates(historic_coordinates, i):\n",
        "\n",
        "  points = historic_coordinates[i]\n",
        "\n",
        "  filtered_points = [point for point in points if point[0] != 0 or point[1] != 0]\n",
        "\n",
        "  x_coords = [point[0] for point in filtered_points]\n",
        "\n",
        "  y_coords = [point[1] for point in filtered_points]\n",
        "\n",
        "  plt.scatter(x_coords, y_coords)\n",
        "  plt.xlabel('Coordenada X')\n",
        "  plt.ylabel('Coordenada Y')\n",
        "  plt.title('Pontos do Primeiro Numpy Array')\n",
        "  plt.show()"
      ]
    },
    {
      "cell_type": "code",
      "execution_count": null,
      "metadata": {
        "id": "elOiUkV_2zoZ"
      },
      "outputs": [],
      "source": [
        "x_coords = [point[0] for point in historic_coordinates[0]]"
      ]
    },
    {
      "cell_type": "code",
      "execution_count": null,
      "metadata": {
        "id": "b9c8CeKW3uvW"
      },
      "outputs": [],
      "source": [
        "y_coords = [point[1] for point in historic_coordinates[0]]"
      ]
    },
    {
      "cell_type": "code",
      "execution_count": null,
      "metadata": {
        "colab": {
          "base_uri": "https://localhost:8080/"
        },
        "id": "3Tc6qSVw23t6",
        "outputId": "930863a5-477f-4f99-f657-55733752da0c"
      },
      "outputs": [
        {
          "output_type": "execute_result",
          "data": {
            "text/plain": [
              "([-1.17, 0, 0], [2.51, 0, 0])"
            ]
          },
          "metadata": {},
          "execution_count": 31
        }
      ],
      "source": [
        "x_coords, y_coords"
      ]
    },
    {
      "cell_type": "code",
      "execution_count": null,
      "metadata": {
        "colab": {
          "base_uri": "https://localhost:8080/",
          "height": 472
        },
        "id": "68HyuK674KnE",
        "outputId": "255e4cb4-682a-4d46-be3d-041aa024730f"
      },
      "outputs": [
        {
          "output_type": "display_data",
          "data": {
            "text/plain": [
              "<Figure size 640x480 with 1 Axes>"
            ],
            "image/png": "[encoded data removed]"
          },
          "metadata": {}
        }
      ],
      "source": [
        "plot_coordinates(historic_coordinates, 0)"
      ]
    },
    {
      "cell_type": "code",
      "execution_count": null,
      "metadata": {
        "colab": {
          "base_uri": "https://localhost:8080/",
          "height": 472
        },
        "id": "R2pDR7NW5YmA",
        "outputId": "61b5af3d-fbd9-4ddb-935c-b698256f2de4"
      },
      "outputs": [
        {
          "output_type": "display_data",
          "data": {
            "text/plain": [
              "<Figure size 640x480 with 1 Axes>"
            ],
            "image/png": "[encoded data removed]"
          },
          "metadata": {}
        }
      ],
      "source": [
        "plot_coordinates(historic_coordinates, 1)"
      ]
    },
    {
      "cell_type": "code",
      "execution_count": null,
      "metadata": {
        "colab": {
          "base_uri": "https://localhost:8080/",
          "height": 472
        },
        "id": "q_7K_n8I5hVE",
        "outputId": "f0123f9c-f400-4afe-8a2b-7e3a497efe81"
      },
      "outputs": [
        {
          "output_type": "display_data",
          "data": {
            "text/plain": [
              "<Figure size 640x480 with 1 Axes>"
            ],
            "image/png": "[encoded data removed]"
          },
          "metadata": {}
        }
      ],
      "source": [
        "plot_coordinates(historic_coordinates, 2)"
      ]
    },
    {
      "cell_type": "code",
      "execution_count": null,
      "metadata": {
        "colab": {
          "base_uri": "https://localhost:8080/",
          "height": 472
        },
        "id": "rFd-CxyV5kTE",
        "outputId": "facbedd5-9ac2-4776-ff84-76d5064f63d1"
      },
      "outputs": [
        {
          "output_type": "display_data",
          "data": {
            "text/plain": [
              "<Figure size 640x480 with 1 Axes>"
            ],
            "image/png": "[encoded data removed]"
          },
          "metadata": {}
        }
      ],
      "source": [
        "plot_coordinates(historic_coordinates, 3)"
      ]
    },
    {
      "cell_type": "code",
      "execution_count": null,
      "metadata": {
        "colab": {
          "base_uri": "https://localhost:8080/",
          "height": 423
        },
        "id": "zFwZBgN8tCtx",
        "outputId": "4f95f89f-2c2e-4437-df76-53a146aaa0fe"
      },
      "outputs": [
        {
          "output_type": "execute_result",
          "data": {
            "text/plain": [
              "           x         y\n",
              "0  -1.720363 -1.068781\n",
              "1  -1.165132  2.511952\n",
              "2   0.938101 -0.382673\n",
              "3  -0.921952  0.007297\n",
              "4  -1.638459 -0.680244\n",
              "..       ...       ...\n",
              "95 -1.816060 -0.159002\n",
              "96  0.155480 -0.506827\n",
              "97 -1.852867  1.826409\n",
              "98 -1.013836 -1.664196\n",
              "99 -2.366024 -0.883510\n",
              "\n",
              "[100 rows x 2 columns]"
            ],
            "text/html": [
              "\n",
              "  <div id=\"df-5c8f8b62-13c3-4439-b356-588991638e92\" class=\"colab-df-container\">\n",
              "    <div>\n",
              "<style scoped>\n",
              "    .dataframe tbody tr th:only-of-type {\n",
              "        vertical-align: middle;\n",
              "    }\n",
              "\n",
              "    .dataframe tbody tr th {\n",
              "        vertical-align: top;\n",
              "    }\n",
              "\n",
              "    .dataframe thead th {\n",
              "        text-align: right;\n",
              "    }\n",
              "</style>\n",
              "<table border=\"1\" class=\"dataframe\">\n",
              "  <thead>\n",
              "    <tr style=\"text-align: right;\">\n",
              "      <th></th>\n",
              "      <th>x</th>\n",
              "      <th>y</th>\n",
              "    </tr>\n",
              "  </thead>\n",
              "  <tbody>\n",
              "    <tr>\n",
              "      <th>0</th>\n",
              "      <td>-1.720363</td>\n",
              "      <td>-1.068781</td>\n",
              "    </tr>\n",
              "    <tr>\n",
              "      <th>1</th>\n",
              "      <td>-1.165132</td>\n",
              "      <td>2.511952</td>\n",
              "    </tr>\n",
              "    <tr>\n",
              "      <th>2</th>\n",
              "      <td>0.938101</td>\n",
              "      <td>-0.382673</td>\n",
              "    </tr>\n",
              "    <tr>\n",
              "      <th>3</th>\n",
              "      <td>-0.921952</td>\n",
              "      <td>0.007297</td>\n",
              "    </tr>\n",
              "    <tr>\n",
              "      <th>4</th>\n",
              "      <td>-1.638459</td>\n",
              "      <td>-0.680244</td>\n",
              "    </tr>\n",
              "    <tr>\n",
              "      <th>...</th>\n",
              "      <td>...</td>\n",
              "      <td>...</td>\n",
              "    </tr>\n",
              "    <tr>\n",
              "      <th>95</th>\n",
              "      <td>-1.816060</td>\n",
              "      <td>-0.159002</td>\n",
              "    </tr>\n",
              "    <tr>\n",
              "      <th>96</th>\n",
              "      <td>0.155480</td>\n",
              "      <td>-0.506827</td>\n",
              "    </tr>\n",
              "    <tr>\n",
              "      <th>97</th>\n",
              "      <td>-1.852867</td>\n",
              "      <td>1.826409</td>\n",
              "    </tr>\n",
              "    <tr>\n",
              "      <th>98</th>\n",
              "      <td>-1.013836</td>\n",
              "      <td>-1.664196</td>\n",
              "    </tr>\n",
              "    <tr>\n",
              "      <th>99</th>\n",
              "      <td>-2.366024</td>\n",
              "      <td>-0.883510</td>\n",
              "    </tr>\n",
              "  </tbody>\n",
              "</table>\n",
              "<p>100 rows × 2 columns</p>\n",
              "</div>\n",
              "    <div class=\"colab-df-buttons\">\n",
              "\n",
              "  <div class=\"colab-df-container\">\n",
              "    <button class=\"colab-df-convert\" onclick=\"convertToInteractive('df-5c8f8b62-13c3-4439-b356-588991638e92')\"\n",
              "            title=\"Convert this dataframe to an interactive table.\"\n",
              "            style=\"display:none;\">\n",
              "\n",
              "  <svg xmlns=\"http://www.w3.org/2000/svg\" height=\"24px\" viewBox=\"0 -960 960 960\">\n",
              "    <path d=\"M120-120v-720h720v720H120Zm60-500h600v-160H180v160Zm220 220h160v-160H400v160Zm0 220h160v-160H400v160ZM180-400h160v-160H180v160Zm440 0h160v-160H620v160ZM180-180h160v-160H180v160Zm440 0h160v-160H620v160Z\"/>\n",
              "  </svg>\n",
              "    </button>\n",
              "\n",
              "  <style>\n",
              "    .colab-df-container {\n",
              "      display:flex;\n",
              "      gap: 12px;\n",
              "    }\n",
              "\n",
              "    .colab-df-convert {\n",
              "      background-color: #E8F0FE;\n",
              "      border: none;\n",
              "      border-radius: 50%;\n",
              "      cursor: pointer;\n",
              "      display: none;\n",
              "      fill: #1967D2;\n",
              "      height: 32px;\n",
              "      padding: 0 0 0 0;\n",
              "      width: 32px;\n",
              "    }\n",
              "\n",
              "    .colab-df-convert:hover {\n",
              "      background-color: #E2EBFA;\n",
              "      box-shadow: 0px 1px 2px rgba(60, 64, 67, 0.3), 0px 1px 3px 1px rgba(60, 64, 67, 0.15);\n",
              "      fill: #174EA6;\n",
              "    }\n",
              "\n",
              "    .colab-df-buttons div {\n",
              "      margin-bottom: 4px;\n",
              "    }\n",
              "\n",
              "    [theme=dark] .colab-df-convert {\n",
              "      background-color: #3B4455;\n",
              "      fill: #D2E3FC;\n",
              "    }\n",
              "\n",
              "    [theme=dark] .colab-df-convert:hover {\n",
              "      background-color: #434B5C;\n",
              "      box-shadow: 0px 1px 3px 1px rgba(0, 0, 0, 0.15);\n",
              "      filter: drop-shadow(0px 1px 2px rgba(0, 0, 0, 0.3));\n",
              "      fill: #FFFFFF;\n",
              "    }\n",
              "  </style>\n",
              "\n",
              "    <script>\n",
              "      const buttonEl =\n",
              "        document.querySelector('#df-5c8f8b62-13c3-4439-b356-588991638e92 button.colab-df-convert');\n",
              "      buttonEl.style.display =\n",
              "        google.colab.kernel.accessAllowed ? 'block' : 'none';\n",
              "\n",
              "      async function convertToInteractive(key) {\n",
              "        const element = document.querySelector('#df-5c8f8b62-13c3-4439-b356-588991638e92');\n",
              "        const dataTable =\n",
              "          await google.colab.kernel.invokeFunction('convertToInteractive',\n",
              "                                                    [key], {});\n",
              "        if (!dataTable) return;\n",
              "\n",
              "        const docLinkHtml = 'Like what you see? Visit the ' +\n",
              "          '<a target=\"_blank\" href=https://colab.research.google.com/notebooks/data_table.ipynb>data table notebook</a>'\n",
              "          + ' to learn more about interactive tables.';\n",
              "        element.innerHTML = '';\n",
              "        dataTable['output_type'] = 'display_data';\n",
              "        await google.colab.output.renderOutput(dataTable, element);\n",
              "        const docLink = document.createElement('div');\n",
              "        docLink.innerHTML = docLinkHtml;\n",
              "        element.appendChild(docLink);\n",
              "      }\n",
              "    </script>\n",
              "  </div>\n",
              "\n",
              "\n",
              "<div id=\"df-22eb3721-47ab-495c-9f22-04febeaf2148\">\n",
              "  <button class=\"colab-df-quickchart\" onclick=\"quickchart('df-22eb3721-47ab-495c-9f22-04febeaf2148')\"\n",
              "            title=\"Suggest charts.\"\n",
              "            style=\"display:none;\">\n",
              "\n",
              "<svg xmlns=\"http://www.w3.org/2000/svg\" height=\"24px\"viewBox=\"0 0 24 24\"\n",
              "     width=\"24px\">\n",
              "    <g>\n",
              "        <path d=\"M19 3H5c-1.1 0-2 .9-2 2v14c0 1.1.9 2 2 2h14c1.1 0 2-.9 2-2V5c0-1.1-.9-2-2-2zM9 17H7v-7h2v7zm4 0h-2V7h2v10zm4 0h-2v-4h2v4z\"/>\n",
              "    </g>\n",
              "</svg>\n",
              "  </button>\n",
              "\n",
              "<style>\n",
              "  .colab-df-quickchart {\n",
              "    background-color: #E8F0FE;\n",
              "    border: none;\n",
              "    border-radius: 50%;\n",
              "    cursor: pointer;\n",
              "    display: none;\n",
              "    fill: #1967D2;\n",
              "    height: 32px;\n",
              "    padding: 0 0 0 0;\n",
              "    width: 32px;\n",
              "  }\n",
              "\n",
              "  .colab-df-quickchart:hover {\n",
              "    background-color: #E2EBFA;\n",
              "    box-shadow: 0px 1px 2px rgba(60, 64, 67, 0.3), 0px 1px 3px 1px rgba(60, 64, 67, 0.15);\n",
              "    fill: #174EA6;\n",
              "  }\n",
              "\n",
              "  [theme=dark] .colab-df-quickchart {\n",
              "    background-color: #3B4455;\n",
              "    fill: #D2E3FC;\n",
              "  }\n",
              "\n",
              "  [theme=dark] .colab-df-quickchart:hover {\n",
              "    background-color: #434B5C;\n",
              "    box-shadow: 0px 1px 3px 1px rgba(0, 0, 0, 0.15);\n",
              "    filter: drop-shadow(0px 1px 2px rgba(0, 0, 0, 0.3));\n",
              "    fill: #FFFFFF;\n",
              "  }\n",
              "</style>\n",
              "\n",
              "  <script>\n",
              "    async function quickchart(key) {\n",
              "      const charts = await google.colab.kernel.invokeFunction(\n",
              "          'suggestCharts', [key], {});\n",
              "    }\n",
              "    (() => {\n",
              "      let quickchartButtonEl =\n",
              "        document.querySelector('#df-22eb3721-47ab-495c-9f22-04febeaf2148 button');\n",
              "      quickchartButtonEl.style.display =\n",
              "        google.colab.kernel.accessAllowed ? 'block' : 'none';\n",
              "    })();\n",
              "  </script>\n",
              "</div>\n",
              "    </div>\n",
              "  </div>\n"
            ]
          },
          "metadata": {},
          "execution_count": 36
        }
      ],
      "source": [
        "projection"
      ]
    },
    {
      "cell_type": "code",
      "execution_count": null,
      "metadata": {
        "colab": {
          "base_uri": "https://localhost:8080/"
        },
        "id": "PhEL2HKJJWdG",
        "outputId": "8f0ca02a-0163-4b8c-fcd3-bc9840b6b80c"
      },
      "outputs": [
        {
          "output_type": "execute_result",
          "data": {
            "text/plain": [
              "array([[-1.17, 2.51],\n",
              "       [4.79, 10.95],\n",
              "       [6.34, -0.71]], dtype=object)"
            ]
          },
          "metadata": {},
          "execution_count": 37
        }
      ],
      "source": [
        "centroid_coordinates"
      ]
    },
    {
      "cell_type": "code",
      "execution_count": null,
      "metadata": {
        "id": "z7Ql7J0aSbf0"
      },
      "outputs": [],
      "source": [
        "def define_cluster_for_register(centroid_coordinates: np.ndarray, register: np.ndarray):\n",
        "\n",
        "  current_cluster_dict = {'index': 0, 'distance': np.linalg.norm(register - centroid_coordinates[0])}\n",
        "\n",
        "  for count, value in enumerate(centroid_coordinates[1:]):\n",
        "\n",
        "    distance_beeing_checked = np.linalg.norm(register - value)\n",
        "\n",
        "    if distance_beeing_checked < current_cluster_dict['distance']:\n",
        "\n",
        "      current_cluster_dict[\"index\"] = count + 1\n",
        "\n",
        "      current_cluster_dict[\"distance\"] = distance_beeing_checked\n",
        "\n",
        "  return current_cluster_dict\n",
        "\n"
      ]
    },
    {
      "cell_type": "code",
      "execution_count": null,
      "metadata": {
        "colab": {
          "base_uri": "https://localhost:8080/"
        },
        "id": "-AyjzNneaNmk",
        "outputId": "6dbed810-451c-4a2b-a056-0c9a3b08b422"
      },
      "outputs": [
        {
          "output_type": "stream",
          "name": "stdout",
          "text": [
            "{'index': 0, 'distance': 0.005244621321398502}\n"
          ]
        }
      ],
      "source": [
        "print(define_cluster_for_register(centroid_coordinates, projection.values[1])) #OK!"
      ]
    },
    {
      "cell_type": "markdown",
      "metadata": {
        "id": "6krWJK18Lo5H"
      },
      "source": [
        "\n",
        "essa funcao vai mapear cada um dos registros para seu cluster referente, de acordo com os indexes de cada centroide\n"
      ]
    },
    {
      "cell_type": "code",
      "execution_count": null,
      "metadata": {
        "id": "9CT87llxJX0e"
      },
      "outputs": [],
      "source": [
        "def check_which_cluster(centroid_coordinates: np.ndarray, projection: np.ndarray):\n",
        "\n",
        "  centroid_dict = {}\n",
        "\n",
        "\n",
        "  for i in range(len(centroid_coordinates)):\n",
        "\n",
        "    centroid_dict[i] = []\n",
        "\n",
        "  for count, value in enumerate(projection):\n",
        "\n",
        "    cluster_result = define_cluster_for_register(centroid_coordinates, value)\n",
        "\n",
        "    centroid_dict[cluster_result[\"index\"]].append(value)\n",
        "\n",
        "  return centroid_dict\n"
      ]
    },
    {
      "cell_type": "code",
      "execution_count": null,
      "metadata": {
        "id": "VOe6y8iQRMpq"
      },
      "outputs": [],
      "source": [
        "testi = check_which_cluster(centroid_coordinates, projection.values)"
      ]
    },
    {
      "cell_type": "code",
      "execution_count": null,
      "metadata": {
        "colab": {
          "base_uri": "https://localhost:8080/"
        },
        "id": "hpXnTQpprYPK",
        "outputId": "47e7e22e-7f79-4664-d1ec-31dc424ac161"
      },
      "outputs": [
        {
          "output_type": "execute_result",
          "data": {
            "text/plain": [
              "[array([ 4.78505279, 10.947812  ])]"
            ]
          },
          "metadata": {},
          "execution_count": 42
        }
      ],
      "source": [
        "testi[1]"
      ]
    },
    {
      "cell_type": "code",
      "execution_count": null,
      "metadata": {
        "colab": {
          "base_uri": "https://localhost:8080/"
        },
        "id": "QaqPt1giraM4",
        "outputId": "fa58f362-df20-4d0e-c3c9-5d2e69306946"
      },
      "outputs": [
        {
          "output_type": "execute_result",
          "data": {
            "text/plain": [
              "[array([ 6.34416964, -0.710123  ]),\n",
              " array([ 1.95582211, -1.32427957]),\n",
              " array([5.51773758, 1.73001222]),\n",
              " array([ 3.52771163, -2.01576451]),\n",
              " array([3.98917053, 0.05602902]),\n",
              " array([ 2.12836947, -0.16834657]),\n",
              " array([3.91488217, 0.3138904 ]),\n",
              " array([ 2.19920468, -0.85985209]),\n",
              " array([4.9162953 , 2.16525809])]"
            ]
          },
          "metadata": {},
          "execution_count": 43
        }
      ],
      "source": [
        "testi[2]"
      ]
    },
    {
      "cell_type": "code",
      "execution_count": null,
      "metadata": {
        "colab": {
          "base_uri": "https://localhost:8080/"
        },
        "id": "o7HEOONprbq4",
        "outputId": "7e3cd696-68fe-4f2e-a22e-bc081372e98d"
      },
      "outputs": [
        {
          "output_type": "execute_result",
          "data": {
            "text/plain": [
              "[array([-1.7203633 , -1.06878073]),\n",
              " array([-1.16513206,  2.51195171]),\n",
              " array([ 0.93810144, -0.38267333]),\n",
              " array([-0.92195242,  0.00729654]),\n",
              " array([-1.63845887, -0.68024447]),\n",
              " array([ 0.22073411, -0.77483302]),\n",
              " array([ 0.24455241, -1.28671207]),\n",
              " array([-0.47821392, -0.45707088]),\n",
              " array([-0.59797024, -0.36434528]),\n",
              " array([ 0.51082282, -1.3083436 ]),\n",
              " array([-0.71885638, -0.78130916]),\n",
              " array([ 1.53137325, -0.88050729]),\n",
              " array([-1.62550935,  0.2418838 ]),\n",
              " array([0.76445479, 1.84946833]),\n",
              " array([-1.88769959,  0.95024539]),\n",
              " array([-0.98957725, -1.57343347]),\n",
              " array([ 0.46505164, -0.09353503]),\n",
              " array([0.76142259, 0.06318726]),\n",
              " array([-0.16619961, -0.05158089]),\n",
              " array([ 0.38791488, -1.7379414 ]),\n",
              " array([2.79613028, 3.69227206]),\n",
              " array([-1.39686211,  1.93180406]),\n",
              " array([ 0.13130739, -1.62951614]),\n",
              " array([-1.47666204,  0.43862253]),\n",
              " array([-0.08193002, -1.76887589]),\n",
              " array([-0.03086237,  4.13261048]),\n",
              " array([-0.80867158, -0.86007075]),\n",
              " array([3.74601121, 4.29190859]),\n",
              " array([ 1.38344984, -0.68663452]),\n",
              " array([-0.60319621,  2.14222745]),\n",
              " array([ 0.34401234, -1.46009253]),\n",
              " array([1.99685514, 1.42748085]),\n",
              " array([-1.79832958, -0.17099159]),\n",
              " array([-1.38190572,  5.47957508]),\n",
              " array([1.8254012 , 1.25306338]),\n",
              " array([-0.98610072,  3.15076551]),\n",
              " array([0.6488258, 3.5127067]),\n",
              " array([-1.78320844,  0.71134714]),\n",
              " array([0.42431993, 0.65437732]),\n",
              " array([-1.1521649 ,  0.31333568]),\n",
              " array([-1.85010502,  0.02106642]),\n",
              " array([ 1.86194757, -0.08374446]),\n",
              " array([-0.92720942, -0.12691621]),\n",
              " array([-1.5850596 , -0.74769335]),\n",
              " array([-1.83123486,  2.03530887]),\n",
              " array([-1.12044075, -0.11758295]),\n",
              " array([0.5972534 , 7.13503648]),\n",
              " array([ 1.51709766, -0.83235706]),\n",
              " array([-1.76220686,  0.47987575]),\n",
              " array([ 0.62738525, -0.1128485 ]),\n",
              " array([-0.76601967, -1.65192962]),\n",
              " array([-0.50715405, -0.34946858]),\n",
              " array([-1.15527131,  1.26744274]),\n",
              " array([-1.55176835,  0.89141609]),\n",
              " array([-0.5187963 ,  1.64967035]),\n",
              " array([-0.94254743, -0.04666169]),\n",
              " array([-1.57464185, -0.49530387]),\n",
              " array([-1.62587301,  2.18664186]),\n",
              " array([-1.84013452, -1.3248758 ]),\n",
              " array([-0.43405105, -0.72343503]),\n",
              " array([-1.97713963, -0.21558459]),\n",
              " array([-1.93323191,  0.94540004]),\n",
              " array([0.52042508, 0.26118228]),\n",
              " array([-0.42134892, -0.40630294]),\n",
              " array([0.36619839, 1.07162792]),\n",
              " array([-1.43859794,  0.32724315]),\n",
              " array([-0.44430614, -0.73287294]),\n",
              " array([-0.62483159, -0.57249548]),\n",
              " array([0.73979999, 0.16694678]),\n",
              " array([ 1.33094226, -0.10928338]),\n",
              " array([-0.36259557, -1.26472179]),\n",
              " array([-1.68038002,  0.21255481]),\n",
              " array([-0.00627755,  3.11435042]),\n",
              " array([-0.18125062, -1.3489956 ]),\n",
              " array([-1.92112947,  0.59970739]),\n",
              " array([-0.426969  , -0.95481057]),\n",
              " array([-0.51358213, -2.12944439]),\n",
              " array([2.28544926, 4.98196302]),\n",
              " array([3.25546816, 5.00022939]),\n",
              " array([-1.26682209,  0.51338129]),\n",
              " array([-1.40374675,  3.33444809]),\n",
              " array([0.46723865, 2.54209875]),\n",
              " array([-1.63525658, -0.21175175]),\n",
              " array([-1.28325281, -0.58613872]),\n",
              " array([-1.14578968, -0.44446485]),\n",
              " array([-1.81605965, -0.15900152]),\n",
              " array([ 0.15548003, -0.50682735]),\n",
              " array([-1.85286665,  1.82640859]),\n",
              " array([-1.01383646, -1.66419613]),\n",
              " array([-2.36602398, -0.88350995])]"
            ]
          },
          "metadata": {},
          "execution_count": 44
        }
      ],
      "source": [
        "testi[0]"
      ]
    },
    {
      "cell_type": "code",
      "execution_count": null,
      "metadata": {
        "colab": {
          "base_uri": "https://localhost:8080/"
        },
        "id": "4xpfcc7J9tnK",
        "outputId": "8e69e17e-85d2-46f3-dd05-acc9fe75afdf"
      },
      "outputs": [
        {
          "output_type": "execute_result",
          "data": {
            "text/plain": [
              "list"
            ]
          },
          "metadata": {},
          "execution_count": 45
        }
      ],
      "source": [
        "distancia_testi = testi[0]\n",
        "type(distancia_testi)\n"
      ]
    },
    {
      "cell_type": "code",
      "execution_count": null,
      "metadata": {
        "colab": {
          "base_uri": "https://localhost:8080/"
        },
        "id": "8d3SzkvRDBt8",
        "outputId": "41832692-7746-4741-9a74-01e7f4589696"
      },
      "outputs": [
        {
          "output_type": "execute_result",
          "data": {
            "text/plain": [
              "[array([-1.7203633 , -1.06878073]),\n",
              " array([-1.16513206,  2.51195171]),\n",
              " array([ 0.93810144, -0.38267333]),\n",
              " array([-0.92195242,  0.00729654]),\n",
              " array([-1.63845887, -0.68024447]),\n",
              " array([ 0.22073411, -0.77483302]),\n",
              " array([ 0.24455241, -1.28671207]),\n",
              " array([-0.47821392, -0.45707088]),\n",
              " array([-0.59797024, -0.36434528]),\n",
              " array([ 0.51082282, -1.3083436 ]),\n",
              " array([-0.71885638, -0.78130916]),\n",
              " array([ 1.53137325, -0.88050729]),\n",
              " array([-1.62550935,  0.2418838 ]),\n",
              " array([0.76445479, 1.84946833]),\n",
              " array([-1.88769959,  0.95024539]),\n",
              " array([-0.98957725, -1.57343347]),\n",
              " array([ 0.46505164, -0.09353503]),\n",
              " array([0.76142259, 0.06318726]),\n",
              " array([-0.16619961, -0.05158089]),\n",
              " array([ 0.38791488, -1.7379414 ]),\n",
              " array([2.79613028, 3.69227206]),\n",
              " array([-1.39686211,  1.93180406]),\n",
              " array([ 0.13130739, -1.62951614]),\n",
              " array([-1.47666204,  0.43862253]),\n",
              " array([-0.08193002, -1.76887589]),\n",
              " array([-0.03086237,  4.13261048]),\n",
              " array([-0.80867158, -0.86007075]),\n",
              " array([3.74601121, 4.29190859]),\n",
              " array([ 1.38344984, -0.68663452]),\n",
              " array([-0.60319621,  2.14222745]),\n",
              " array([ 0.34401234, -1.46009253]),\n",
              " array([1.99685514, 1.42748085]),\n",
              " array([-1.79832958, -0.17099159]),\n",
              " array([-1.38190572,  5.47957508]),\n",
              " array([1.8254012 , 1.25306338]),\n",
              " array([-0.98610072,  3.15076551]),\n",
              " array([0.6488258, 3.5127067]),\n",
              " array([-1.78320844,  0.71134714]),\n",
              " array([0.42431993, 0.65437732]),\n",
              " array([-1.1521649 ,  0.31333568]),\n",
              " array([-1.85010502,  0.02106642]),\n",
              " array([ 1.86194757, -0.08374446]),\n",
              " array([-0.92720942, -0.12691621]),\n",
              " array([-1.5850596 , -0.74769335]),\n",
              " array([-1.83123486,  2.03530887]),\n",
              " array([-1.12044075, -0.11758295]),\n",
              " array([0.5972534 , 7.13503648]),\n",
              " array([ 1.51709766, -0.83235706]),\n",
              " array([-1.76220686,  0.47987575]),\n",
              " array([ 0.62738525, -0.1128485 ]),\n",
              " array([-0.76601967, -1.65192962]),\n",
              " array([-0.50715405, -0.34946858]),\n",
              " array([-1.15527131,  1.26744274]),\n",
              " array([-1.55176835,  0.89141609]),\n",
              " array([-0.5187963 ,  1.64967035]),\n",
              " array([-0.94254743, -0.04666169]),\n",
              " array([-1.57464185, -0.49530387]),\n",
              " array([-1.62587301,  2.18664186]),\n",
              " array([-1.84013452, -1.3248758 ]),\n",
              " array([-0.43405105, -0.72343503]),\n",
              " array([-1.97713963, -0.21558459]),\n",
              " array([-1.93323191,  0.94540004]),\n",
              " array([0.52042508, 0.26118228]),\n",
              " array([-0.42134892, -0.40630294]),\n",
              " array([0.36619839, 1.07162792]),\n",
              " array([-1.43859794,  0.32724315]),\n",
              " array([-0.44430614, -0.73287294]),\n",
              " array([-0.62483159, -0.57249548]),\n",
              " array([0.73979999, 0.16694678]),\n",
              " array([ 1.33094226, -0.10928338]),\n",
              " array([-0.36259557, -1.26472179]),\n",
              " array([-1.68038002,  0.21255481]),\n",
              " array([-0.00627755,  3.11435042]),\n",
              " array([-0.18125062, -1.3489956 ]),\n",
              " array([-1.92112947,  0.59970739]),\n",
              " array([-0.426969  , -0.95481057]),\n",
              " array([-0.51358213, -2.12944439]),\n",
              " array([2.28544926, 4.98196302]),\n",
              " array([3.25546816, 5.00022939]),\n",
              " array([-1.26682209,  0.51338129]),\n",
              " array([-1.40374675,  3.33444809]),\n",
              " array([0.46723865, 2.54209875]),\n",
              " array([-1.63525658, -0.21175175]),\n",
              " array([-1.28325281, -0.58613872]),\n",
              " array([-1.14578968, -0.44446485]),\n",
              " array([-1.81605965, -0.15900152]),\n",
              " array([ 0.15548003, -0.50682735]),\n",
              " array([-1.85286665,  1.82640859]),\n",
              " array([-1.01383646, -1.66419613]),\n",
              " array([-2.36602398, -0.88350995])]"
            ]
          },
          "metadata": {},
          "execution_count": 46
        }
      ],
      "source": [
        "testi[0]"
      ]
    },
    {
      "cell_type": "code",
      "execution_count": null,
      "metadata": {
        "colab": {
          "base_uri": "https://localhost:8080/"
        },
        "id": "iomfNeL7DD9t",
        "outputId": "bf0d398d-e2c6-41da-869b-c81e520e40e4"
      },
      "outputs": [
        {
          "output_type": "execute_result",
          "data": {
            "text/plain": [
              "array([-1.7203633 , -1.06878073])"
            ]
          },
          "metadata": {},
          "execution_count": 47
        }
      ],
      "source": [
        "testi[0][0]"
      ]
    },
    {
      "cell_type": "code",
      "execution_count": null,
      "metadata": {
        "id": "surL5_XeErB3"
      },
      "outputs": [],
      "source": [
        "matrix_testi = np.array(testi[0])"
      ]
    },
    {
      "cell_type": "code",
      "execution_count": null,
      "metadata": {
        "colab": {
          "base_uri": "https://localhost:8080/"
        },
        "id": "upL7yYxnEwB5",
        "outputId": "2c34fca2-44e7-4185-9c41-0b07fce454ff"
      },
      "outputs": [
        {
          "output_type": "stream",
          "name": "stdout",
          "text": [
            "Soma dos valores de cada coluna:\n",
            "[-36.27220914  42.49941923]\n"
          ]
        }
      ],
      "source": [
        "sum_of_columns = np.sum(matrix_testi, axis=0)\n",
        "\n",
        "print(\"Soma dos valores de cada coluna:\")\n",
        "print(sum_of_columns)"
      ]
    },
    {
      "cell_type": "code",
      "source": [
        "matrix_testi = np.array(testi[1])"
      ],
      "metadata": {
        "id": "L61Qm3aax3BU"
      },
      "execution_count": null,
      "outputs": []
    },
    {
      "cell_type": "code",
      "source": [
        "sum_of_columns = np.sum(matrix_testi, axis=0)\n",
        "\n",
        "print(\"Soma dos valores de cada coluna:\")\n",
        "print(sum_of_columns)"
      ],
      "metadata": {
        "colab": {
          "base_uri": "https://localhost:8080/"
        },
        "id": "0FBTJy1Vx55k",
        "outputId": "2622e569-71fc-4023-a85d-4284ecc0ab66"
      },
      "execution_count": null,
      "outputs": [
        {
          "output_type": "stream",
          "name": "stdout",
          "text": [
            "Soma dos valores de cada coluna:\n",
            "[ 4.78505279 10.947812  ]\n"
          ]
        }
      ]
    },
    {
      "cell_type": "code",
      "source": [
        "matrix_testi = np.array(testi[2])"
      ],
      "metadata": {
        "id": "S_vouFYFx8ig"
      },
      "execution_count": null,
      "outputs": []
    },
    {
      "cell_type": "code",
      "source": [
        "sum_of_columns = np.sum(matrix_testi, axis=0)\n",
        "\n",
        "print(\"Soma dos valores de cada coluna:\")\n",
        "print(sum_of_columns)"
      ],
      "metadata": {
        "colab": {
          "base_uri": "https://localhost:8080/"
        },
        "id": "RVWV1f6xx-Mo",
        "outputId": "bd8a5734-d9f3-4c31-e014-d4846319eab0"
      },
      "execution_count": null,
      "outputs": [
        {
          "output_type": "stream",
          "name": "stdout",
          "text": [
            "Soma dos valores de cada coluna:\n",
            "[34.49336311 -0.81317602]\n"
          ]
        }
      ]
    },
    {
      "cell_type": "code",
      "execution_count": null,
      "metadata": {
        "id": "ysRwCAUdgKSh"
      },
      "outputs": [],
      "source": [
        "def define_value_for_each_dimension_of_each_centroid(registers: np.ndarray):\n",
        "\n",
        "  return np.sum(registers, axis= 0) / len(registers) #tenho que dividir para valores diferentes; ou seja, pela quantidade de registros em cada chave\n"
      ]
    },
    {
      "cell_type": "code",
      "source": [
        "define_value_for_each_dimension_of_each_centroid(testi[0])"
      ],
      "metadata": {
        "colab": {
          "base_uri": "https://localhost:8080/"
        },
        "id": "QKeSiiJcvPZF",
        "outputId": "093f9d01-150e-425f-efa0-20863dd2361c"
      },
      "execution_count": null,
      "outputs": [
        {
          "output_type": "execute_result",
          "data": {
            "text/plain": [
              "array([-0.40302455,  0.47221577])"
            ]
          },
          "metadata": {},
          "execution_count": 55
        }
      ]
    },
    {
      "cell_type": "code",
      "execution_count": null,
      "metadata": {
        "id": "nfoSPowC5Tif"
      },
      "outputs": [],
      "source": [
        "def new_centroid_coordinates(registers_dict: dict, length_how_many_centroids: int): #funcao para recalcular os centroides\n",
        "\n",
        "  #tirar novo valor de cada dimensao de cada cluster a partir da media dos valores de cada dimensao de cada registro de cada cluster\n",
        "\n",
        "  new_coordinates_dict = {}\n",
        "\n",
        "  for i in range(length_how_many_centroids):\n",
        "\n",
        "    new_coordinates_dict[i] = [] #testar sem essa linha dps\n",
        "\n",
        "    new_coordinates_dict[i] = define_value_for_each_dimension_of_each_centroid(registers_dict[i])\n",
        "\n",
        "  return np.array(list(new_coordinates_dict.values()), dtype= object)\n"
      ]
    },
    {
      "cell_type": "code",
      "source": [
        "testi3 = new_centroid_coordinates(testi, len(testi))\n",
        "testi3"
      ],
      "metadata": {
        "colab": {
          "base_uri": "https://localhost:8080/"
        },
        "id": "7OP--0CMxGXe",
        "outputId": "b9588c83-a88e-45ec-b21f-cbe1bf56c345"
      },
      "execution_count": null,
      "outputs": [
        {
          "output_type": "execute_result",
          "data": {
            "text/plain": [
              "array([[-0.4030245459967114, 0.4722157691990934],\n",
              "       [4.785052794418216, 10.947811997031378],\n",
              "       [3.832595900595041, -0.09035289087374891]], dtype=object)"
            ]
          },
          "metadata": {},
          "execution_count": 57
        }
      ]
    },
    {
      "cell_type": "code",
      "source": [
        "centroid_coordinates"
      ],
      "metadata": {
        "colab": {
          "base_uri": "https://localhost:8080/"
        },
        "id": "e39PT6sz1XUa",
        "outputId": "275053c8-724a-4dea-ae61-6420a2a271d9"
      },
      "execution_count": null,
      "outputs": [
        {
          "output_type": "execute_result",
          "data": {
            "text/plain": [
              "array([[-1.17, 2.51],\n",
              "       [4.79, 10.95],\n",
              "       [6.34, -0.71]], dtype=object)"
            ]
          },
          "metadata": {},
          "execution_count": 58
        }
      ]
    },
    {
      "cell_type": "markdown",
      "metadata": {
        "id": "CDbbiPetnRXX"
      },
      "source": [
        "dps desenvolver a funcao para realizar essas funcoes em loop; e dps juntar tudo numa funcao geral tudo = funcao de definicao inicial e a funcao em seguida aí"
      ]
    },
    {
      "cell_type": "code",
      "execution_count": null,
      "metadata": {
        "id": "zUw2_qImqksb"
      },
      "outputs": [],
      "source": [
        "def redefine_centroid_and_apoint_each_register(centroid_coordinates: np.ndarray, projection: np.ndarray):\n",
        "\n",
        "    while(True):\n",
        "\n",
        "      centroid_coordinates_to_check_change = centroid_coordinates\n",
        "\n",
        "      #> funcao pra definir qual cluster de cada e jogar em dict\n",
        "\n",
        "      registers_dict = check_which_cluster(centroid_coordinates, projection.values)\n",
        "\n",
        "      #>usar em dict na funcao para definir novas coordenadas\n",
        "\n",
        "      centroid_coordinates = new_centroid_coordinates(registers_dict, len(centroid_coordinates))\n",
        "\n",
        "      #> loop ate estabilizar ou atingir uma qtd predetermianda de iteracoes\n",
        "\n",
        "\n",
        "      if np.array_equal(centroid_coordinates, centroid_coordinates_to_check_change):\n",
        "\n",
        "        break\n",
        "\n",
        "    return centroid_coordinates, registers_dict\n"
      ]
    },
    {
      "cell_type": "code",
      "source": [
        "teste2 = redefine_centroid_and_apoint_each_register(centroid_coordinates, projection)"
      ],
      "metadata": {
        "colab": {
          "base_uri": "https://localhost:8080/"
        },
        "id": "4-5drXJkERSJ",
        "outputId": "35d7d628-9b16-469a-dab6-de369411535a"
      },
      "execution_count": null,
      "outputs": [
        {
          "output_type": "stream",
          "name": "stdout",
          "text": [
            "OI\n",
            "\n",
            "OI\n",
            "\n",
            "OI\n",
            "\n",
            "OI\n",
            "\n",
            "OI\n",
            "\n",
            "OI\n",
            "\n",
            "OI\n",
            "\n"
          ]
        }
      ]
    },
    {
      "cell_type": "code",
      "source": [
        "def geral(dataframe: pd.DataFrame, amt_centroids: int, random_seed: int = None):\n",
        "\n",
        "  centroid_coordinates, historic_coordinates = initialize_centroids(amt_centroids = amt_centroids, dataframe = dataframe, random_seed = random_seed)\n",
        "\n",
        "  return redefine_centroid_and_apoint_each_register(centroid_coordinates = centroid_coordinates, projection = projection)\n"
      ],
      "metadata": {
        "id": "Ba_h61jB5LU7"
      },
      "execution_count": null,
      "outputs": []
    },
    {
      "cell_type": "code",
      "source": [
        "print(geral(projection, 3))"
      ],
      "metadata": {
        "colab": {
          "base_uri": "https://localhost:8080/"
        },
        "id": "8I3mkvhuIWh3",
        "outputId": "fab3bbbf-127a-410b-c149-690925b0a9a4"
      },
      "execution_count": null,
      "outputs": [
        {
          "output_type": "stream",
          "name": "stdout",
          "text": [
            "OI\n",
            "\n",
            "OI\n",
            "\n",
            "OI\n",
            "\n",
            "OI\n",
            "\n",
            "OI\n",
            "\n",
            "OI\n",
            "\n",
            "OI\n",
            "\n",
            "OI\n",
            "\n",
            "OI\n",
            "\n",
            "OI\n",
            "\n",
            "OI\n",
            "\n",
            "(array([[2.8712768765363337, -0.04532240654423281],\n",
            "       [1.1363489570890055, 4.716598196555913],\n",
            "       [-0.8127712634742089, -0.11206426540046593]], dtype=object), {0: [array([ 6.34416964, -0.710123  ]), array([ 1.95582211, -1.32427957]), array([ 1.53137325, -0.88050729]), array([5.51773758, 1.73001222]), array([ 1.38344984, -0.68663452]), array([1.99685514, 1.42748085]), array([1.8254012 , 1.25306338]), array([ 1.86194757, -0.08374446]), array([ 3.52771163, -2.01576451]), array([ 1.51709766, -0.83235706]), array([3.98917053, 0.05602902]), array([ 2.12836947, -0.16834657]), array([ 1.33094226, -0.10928338]), array([3.91488217, 0.3138904 ]), array([ 2.19920468, -0.85985209]), array([4.9162953 , 2.16525809])], 1: [array([2.79613028, 3.69227206]), array([-0.03086237,  4.13261048]), array([3.74601121, 4.29190859]), array([-1.38190572,  5.47957508]), array([-0.98610072,  3.15076551]), array([0.6488258, 3.5127067]), array([0.5972534 , 7.13503648]), array([ 4.78505279, 10.947812  ]), array([-0.00627755,  3.11435042]), array([2.28544926, 4.98196302]), array([3.25546816, 5.00022939]), array([-1.40374675,  3.33444809]), array([0.46723865, 2.54209875])], 2: [array([-1.7203633 , -1.06878073]), array([-1.16513206,  2.51195171]), array([ 0.93810144, -0.38267333]), array([-0.92195242,  0.00729654]), array([-1.63845887, -0.68024447]), array([ 0.22073411, -0.77483302]), array([ 0.24455241, -1.28671207]), array([-0.47821392, -0.45707088]), array([-0.59797024, -0.36434528]), array([ 0.51082282, -1.3083436 ]), array([-0.71885638, -0.78130916]), array([-1.62550935,  0.2418838 ]), array([0.76445479, 1.84946833]), array([-1.88769959,  0.95024539]), array([-0.98957725, -1.57343347]), array([ 0.46505164, -0.09353503]), array([0.76142259, 0.06318726]), array([-0.16619961, -0.05158089]), array([ 0.38791488, -1.7379414 ]), array([-1.39686211,  1.93180406]), array([ 0.13130739, -1.62951614]), array([-1.47666204,  0.43862253]), array([-0.08193002, -1.76887589]), array([-0.80867158, -0.86007075]), array([-0.60319621,  2.14222745]), array([ 0.34401234, -1.46009253]), array([-1.79832958, -0.17099159]), array([-1.78320844,  0.71134714]), array([0.42431993, 0.65437732]), array([-1.1521649 ,  0.31333568]), array([-1.85010502,  0.02106642]), array([-0.92720942, -0.12691621]), array([-1.5850596 , -0.74769335]), array([-1.83123486,  2.03530887]), array([-1.12044075, -0.11758295]), array([-1.76220686,  0.47987575]), array([ 0.62738525, -0.1128485 ]), array([-0.76601967, -1.65192962]), array([-0.50715405, -0.34946858]), array([-1.15527131,  1.26744274]), array([-1.55176835,  0.89141609]), array([-0.5187963 ,  1.64967035]), array([-0.94254743, -0.04666169]), array([-1.57464185, -0.49530387]), array([-1.62587301,  2.18664186]), array([-1.84013452, -1.3248758 ]), array([-0.43405105, -0.72343503]), array([-1.97713963, -0.21558459]), array([-1.93323191,  0.94540004]), array([0.52042508, 0.26118228]), array([-0.42134892, -0.40630294]), array([0.36619839, 1.07162792]), array([-1.43859794,  0.32724315]), array([-0.44430614, -0.73287294]), array([-0.62483159, -0.57249548]), array([0.73979999, 0.16694678]), array([-0.36259557, -1.26472179]), array([-1.68038002,  0.21255481]), array([-0.18125062, -1.3489956 ]), array([-1.92112947,  0.59970739]), array([-0.426969  , -0.95481057]), array([-0.51358213, -2.12944439]), array([-1.26682209,  0.51338129]), array([-1.63525658, -0.21175175]), array([-1.28325281, -0.58613872]), array([-1.14578968, -0.44446485]), array([-1.81605965, -0.15900152]), array([ 0.15548003, -0.50682735]), array([-1.85286665,  1.82640859]), array([-1.01383646, -1.66419613]), array([-2.36602398, -0.88350995])]})\n"
          ]
        }
      ]
    },
    {
      "cell_type": "markdown",
      "source": [
        "JOGO OS VALORES PARA 2 CASAS DECIMAIS?"
      ],
      "metadata": {
        "id": "d5O8sEMP2hXd"
      }
    }
  ],
  "metadata": {
    "colab": {
      "provenance": [],
      "authorship_tag": "ABX9TyNbI0Nh7xBvYNIki7KkB1S3",
      "include_colab_link": true
    },
    "kernelspec": {
      "display_name": "Python 3",
      "name": "python3"
    },
    "language_info": {
      "name": "python"
    }
  },
  "nbformat": 4,
  "nbformat_minor": 0
}